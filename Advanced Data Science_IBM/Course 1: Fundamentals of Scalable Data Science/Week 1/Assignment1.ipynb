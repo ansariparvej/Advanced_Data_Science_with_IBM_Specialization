{
  "cells": [
    {
      "cell_type": "markdown",
      "metadata": {
        "id": "vmZIOBd9JBi4"
      },
      "source": [
        "# Warmup Assignment\n",
        "\n",
        "In this exercise you will just submit a ping to the grader in order to make sure the exercise and grading environment is setup correctly."
      ]
    },
    {
      "cell_type": "markdown",
      "metadata": {
        "id": "41ZiF0biJBi-"
      },
      "source": [
        "\n",
        "\n",
        "We have to install a little library in order to submit to coursera\n"
      ]
    },
    {
      "cell_type": "code",
      "execution_count": 1,
      "metadata": {
        "colab": {
          "base_uri": "https://localhost:8080/"
        },
        "id": "XhZENqXRJBi_",
        "outputId": "d3067f72-4a86-445d-c9f8-9ba53cfb2dd8"
      },
      "outputs": [
        {
          "output_type": "stream",
          "name": "stdout",
          "text": [
            "--2023-08-08 17:14:31--  https://raw.githubusercontent.com/IBM/coursera/master/rklib.py\n",
            "Resolving raw.githubusercontent.com (raw.githubusercontent.com)... 185.199.108.133, 185.199.109.133, 185.199.110.133, ...\n",
            "Connecting to raw.githubusercontent.com (raw.githubusercontent.com)|185.199.108.133|:443... connected.\n",
            "HTTP request sent, awaiting response... 200 OK\n",
            "Length: 2540 (2.5K) [text/plain]\n",
            "Saving to: ‘rklib.py’\n",
            "\n",
            "rklib.py            100%[===================>]   2.48K  --.-KB/s    in 0s      \n",
            "\n",
            "2023-08-08 17:14:31 (36.5 MB/s) - ‘rklib.py’ saved [2540/2540]\n",
            "\n"
          ]
        }
      ],
      "source": [
        "!rm -f rklib.py\n",
        "!wget https://raw.githubusercontent.com/IBM/coursera/master/rklib.py"
      ]
    },
    {
      "cell_type": "markdown",
      "metadata": {
        "id": "GbzaeYzzJBjB"
      },
      "source": [
        "Please provide your email address and obtain a submission token on the grader’s submission page in coursera, then execute the cell"
      ]
    },
    {
      "cell_type": "code",
      "execution_count": 2,
      "metadata": {
        "colab": {
          "base_uri": "https://localhost:8080/"
        },
        "id": "oZqgE8KrJBjD",
        "outputId": "f5351429-8982-4056-d855-9fa7c0915d40"
      },
      "outputs": [
        {
          "output_type": "stream",
          "name": "stdout",
          "text": [
            "Submission successful, please check on the coursera grader page for the status\n",
            "-------------------------\n",
            "{\"elements\":[{\"itemId\":\"MV2rL\",\"id\":\"sUpST4RAEeawAApvKZgcCQ~MV2rL~JMpwJjYPEe6cWgrQuiGFkQ\",\"courseId\":\"sUpST4RAEeawAApvKZgcCQ\"}],\"paging\":{},\"linked\":{}}\n",
            "-------------------------\n"
          ]
        }
      ],
      "source": [
        "from rklib import submit\n",
        "import json\n",
        "\n",
        "key = \"RrIb4SHNEeiLcw7AkKxwaA\"\n",
        "part = \"zetaj\"\n",
        "email =  \"ansarip82@gmail.com\" ###_YOUR_CODE_GOES_HERE_###\n",
        "token = \"iTrDB5HmhCN4ZyeJ\" ###_YOUR_CODE_GOES_HERE_### #you can obtain it from the grader page on Coursera (have a look here if you need more information https://youtu.be/GcDo0Rwe06U?t=276)\n",
        "\n",
        "\n",
        "submit(email, token, key, part, [part], json.dumps(23))"
      ]
    }
  ],
  "metadata": {
    "kernelspec": {
      "display_name": "Python 3.6",
      "language": "python",
      "name": "python3"
    },
    "language_info": {
      "codemirror_mode": {
        "name": "ipython",
        "version": 3
      },
      "file_extension": ".py",
      "mimetype": "text/x-python",
      "name": "python",
      "nbconvert_exporter": "python",
      "pygments_lexer": "ipython3",
      "version": "3.6.8"
    },
    "colab": {
      "provenance": []
    }
  },
  "nbformat": 4,
  "nbformat_minor": 0
}