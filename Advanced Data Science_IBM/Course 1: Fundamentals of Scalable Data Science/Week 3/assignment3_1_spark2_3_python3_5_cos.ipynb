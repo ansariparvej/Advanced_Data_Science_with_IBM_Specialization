{
  "cells": [
    {
      "cell_type": "markdown",
      "metadata": {
        "id": "3xW6gvAVb3qR"
      },
      "source": [
        "# Assignment 3\n",
        "\n",
        "Welcome to Assignment 3. This will be even more fun. Now we will calculate statistical measures.\n",
        "\n",
        "## You only have to pass 4 out of 7 functions\n",
        "\n",
        "Just make sure you hit the play button on each cell from top to down. There are seven functions you have to implement. Please also make sure than on each change on a function you hit the play button again on the corresponding cell to make it available to the rest of this notebook."
      ]
    },
    {
      "cell_type": "markdown",
      "metadata": {
        "id": "BYdYQb7Nb3qc"
      },
      "source": [
        "This notebook is designed to run in a IBM Watson Studio default runtime (NOT the Watson Studio Apache Spark Runtime as the default runtime with 1 vCPU is free of charge). Therefore, we install Apache Spark in local mode for test purposes only. Please don't use it in production.\n",
        "\n",
        "In case you are facing issues, please read the following two documents first:\n",
        "\n",
        "https://github.com/IBM/skillsnetwork/wiki/Environment-Setup\n",
        "\n",
        "https://github.com/IBM/skillsnetwork/wiki/FAQ\n",
        "\n",
        "Then, please feel free to ask:\n",
        "\n",
        "https://coursera.org/learn/machine-learning-big-data-apache-spark/discussions/all\n",
        "\n",
        "Please make sure to follow the guidelines before asking a question:\n",
        "\n",
        "https://github.com/IBM/skillsnetwork/wiki/FAQ#im-feeling-lost-and-confused-please-help-me\n",
        "\n",
        "\n",
        "If running outside Watson Studio, this should work as well. In case you are running in an Apache Spark context outside Watson Studio, please remove the Apache Spark setup in the first notebook cells."
      ]
    },
    {
      "cell_type": "code",
      "execution_count": 1,
      "metadata": {
        "id": "LLzSncfWb3qf"
      },
      "outputs": [],
      "source": [
        "from IPython.display import Markdown, display\n",
        "def printmd(string):\n",
        "    display(Markdown('# <span style=\"color:red\">'+string+'</span>'))\n",
        "\n",
        "\n",
        "if ('sc' in locals() or 'sc' in globals()):\n",
        "    printmd('<<<<<!!!!! It seems that you are running in a IBM Watson Studio Apache Spark Notebook. Please run it in an IBM Watson Studio Default Runtime (without Apache Spark) !!!!!>>>>>')\n"
      ]
    },
    {
      "cell_type": "code",
      "execution_count": 2,
      "metadata": {
        "colab": {
          "base_uri": "https://localhost:8080/"
        },
        "id": "Pifekmxib3qj",
        "outputId": "594f67ec-ee74-4130-d397-c40268483284"
      },
      "outputs": [
        {
          "output_type": "stream",
          "name": "stdout",
          "text": [
            "Collecting pyspark==3.3.0\n",
            "  Downloading pyspark-3.3.0.tar.gz (281.3 MB)\n",
            "\u001b[2K     \u001b[90m━━━━━━━━━━━━━━━━━━━━━━━━━━━━━━━━━━━━━━━\u001b[0m \u001b[32m281.3/281.3 MB\u001b[0m \u001b[31m4.6 MB/s\u001b[0m eta \u001b[36m0:00:00\u001b[0m\n",
            "\u001b[?25h  Preparing metadata (setup.py) ... \u001b[?25l\u001b[?25hdone\n",
            "Collecting py4j==0.10.9.5 (from pyspark==3.3.0)\n",
            "  Downloading py4j-0.10.9.5-py2.py3-none-any.whl (199 kB)\n",
            "\u001b[2K     \u001b[90m━━━━━━━━━━━━━━━━━━━━━━━━━━━━━━━━━━━━━━\u001b[0m \u001b[32m199.7/199.7 kB\u001b[0m \u001b[31m24.7 MB/s\u001b[0m eta \u001b[36m0:00:00\u001b[0m\n",
            "\u001b[?25hBuilding wheels for collected packages: pyspark\n",
            "  Building wheel for pyspark (setup.py) ... \u001b[?25l\u001b[?25hdone\n",
            "  Created wheel for pyspark: filename=pyspark-3.3.0-py2.py3-none-any.whl size=281764009 sha256=b3dbe100d40f6ca7cbeb68eb9e8e54818efd9293babafbdff402ce2e37571825\n",
            "  Stored in directory: /root/.cache/pip/wheels/81/9c/6c/d5200fcf351ffa39cbe09911e99703283624cd037df58070d9\n",
            "Successfully built pyspark\n",
            "Installing collected packages: py4j, pyspark\n",
            "  Attempting uninstall: py4j\n",
            "    Found existing installation: py4j 0.10.9.7\n",
            "    Uninstalling py4j-0.10.9.7:\n",
            "      Successfully uninstalled py4j-0.10.9.7\n",
            "Successfully installed py4j-0.10.9.5 pyspark-3.3.0\n"
          ]
        }
      ],
      "source": [
        "!pip install pyspark==3.3.0"
      ]
    },
    {
      "cell_type": "code",
      "execution_count": 3,
      "metadata": {
        "id": "FE-O8z8jb3ql"
      },
      "outputs": [],
      "source": [
        "try:\n",
        "    from pyspark import SparkContext, SparkConf\n",
        "    from pyspark.sql import SparkSession\n",
        "except ImportError as e:\n",
        "    printmd('<<<<<!!!!! Please restart your kernel after installing Apache Spark !!!!!>>>>>')"
      ]
    },
    {
      "cell_type": "code",
      "execution_count": 4,
      "metadata": {
        "id": "pHthyh74b3qn"
      },
      "outputs": [],
      "source": [
        "sc = SparkContext.getOrCreate(SparkConf().setMaster(\"local[*]\"))\n",
        "\n",
        "spark = SparkSession \\\n",
        "    .builder \\\n",
        "    .getOrCreate()"
      ]
    },
    {
      "cell_type": "markdown",
      "metadata": {
        "id": "pfBueDgPb3qp"
      },
      "source": [
        "All functions can be implemented using DataFrames, ApacheSparkSQL or RDDs. We are only interested in the result. You are given the reference to the data frame in the \"df\" parameter and in case you want to use SQL just use the \"spark\" parameter which is a reference to the global SparkSession object. Finally if you want to use RDDs just use \"df.rdd\" for obtaining a reference to the underlying RDD object. But we discurage using RDD at this point in time.\n",
        "\n",
        "Let's start with the first function. Please calculate the minimal temperature for the test data set you have created. We've provided a little skeleton for you in case you want to use SQL. Everything can be implemented using SQL only if you like."
      ]
    },
    {
      "cell_type": "code",
      "execution_count": 16,
      "metadata": {
        "id": "0tKjrLVvb3qq"
      },
      "outputs": [],
      "source": [
        "def minTemperature():\n",
        "    #TODO Please enter your code here, you are not required to use the template code below\n",
        "    #some reference: https://spark.apache.org/docs/latest/api/python/pyspark.sql.html#pyspark.sql.DataFrame\n",
        "    return spark.sql(\"SELECT min(temperature) as mintemp from washing\").first().mintemp"
      ]
    },
    {
      "cell_type": "markdown",
      "metadata": {
        "id": "L5mDLHlZb3qr"
      },
      "source": [
        "Please now do the same for the mean of the temperature"
      ]
    },
    {
      "cell_type": "code",
      "execution_count": 17,
      "metadata": {
        "id": "ZNFhDG-Zb3qv"
      },
      "outputs": [],
      "source": [
        "def meanTemperature():\n",
        "    #TODO Please enter your code here, you are not required to use the template code below\n",
        "    #some reference: https://spark.apache.org/docs/latest/api/python/pyspark.sql.html#pyspark.sql.DataFrame\n",
        "    return spark.sql(\"SELECT avg(temperature) as meantemp from washing\").first().meantemp"
      ]
    },
    {
      "cell_type": "markdown",
      "metadata": {
        "id": "GlBi9cUjb3qv"
      },
      "source": [
        "Please now do the same for the maximum of the temperature"
      ]
    },
    {
      "cell_type": "code",
      "execution_count": 18,
      "metadata": {
        "id": "hFwx4rsWb3qx"
      },
      "outputs": [],
      "source": [
        "def maxTemperature():\n",
        "    #TODO Please enter your code here, you are not required to use the template code below\n",
        "    #some reference: https://spark.apache.org/docs/latest/api/python/pyspark.sql.html#pyspark.sql.DataFrame\n",
        "    return spark.sql(\"SELECT max(temperature) as maxtemp from washing\").first().maxtemp"
      ]
    },
    {
      "cell_type": "markdown",
      "metadata": {
        "id": "qmPPza7Wb3qy"
      },
      "source": [
        "Please now do the same for the standard deviation of the temperature"
      ]
    },
    {
      "cell_type": "code",
      "execution_count": 19,
      "metadata": {
        "id": "zC8Tcngnb3qz"
      },
      "outputs": [],
      "source": [
        "def sdTemperature():\n",
        "    #TODO Please enter your code here, you are not required to use the template code below\n",
        "    #some reference: https://spark.apache.org/docs/latest/api/python/pyspark.sql.html#pyspark.sql.DataFrame\n",
        "    #https://spark.apache.org/docs/2.3.0/api/sql/\n",
        "    return spark.sql(\"SELECT stddev(temperature) as sdtemp from washing\").first().sdtemp"
      ]
    },
    {
      "cell_type": "markdown",
      "metadata": {
        "id": "pgRuMDu2b3q0"
      },
      "source": [
        "Please now do the same for the skew of the temperature. Since the SQL statement for this is a bit more complicated we've provided a skeleton for you. You have to insert custom code at four positions in order to make the function work. Alternatively you can also remove everything and implement if on your own. Note that we are making use of two previously defined functions, so please make sure they are correct. Also note that we are making use of python's string formatting capabilitis where the results of the two function calls to \"meanTemperature\" and \"sdTemperature\" are inserted at the \"%s\" symbols in the SQL string."
      ]
    },
    {
      "cell_type": "code",
      "execution_count": 28,
      "metadata": {
        "id": "w1uWCpQob3q1"
      },
      "outputs": [],
      "source": [
        "def skewTemperature():\n",
        "    return spark.sql(\"\"\"\n",
        "SELECT\n",
        "    (\n",
        "        1/count(temperature)\n",
        "    ) *\n",
        "    SUM (\n",
        "        POWER(temperature-%s,3)/POWER(%s,3)\n",
        "    )\n",
        "\n",
        "as sktemperature from washing\n",
        "                    \"\"\" %(meanTemperature(),sdTemperature())).first().sktemperature"
      ]
    },
    {
      "cell_type": "markdown",
      "metadata": {
        "id": "nuMd1_OKb3q1"
      },
      "source": [
        "Kurtosis is the 4th statistical moment, so if you are smart you can make use of the code for skew which is the 3rd statistical moment. Actually only two things are different."
      ]
    },
    {
      "cell_type": "code",
      "execution_count": 21,
      "metadata": {
        "id": "AENPECg-b3q2"
      },
      "outputs": [],
      "source": [
        "def kurtosisTemperature():\n",
        "        return spark.sql(\"\"\"\n",
        "SELECT\n",
        "    (\n",
        "        1/count(temperature)\n",
        "    ) *\n",
        "    SUM (\n",
        "        POWER(temperature-%s,4)/POWER(%s,4)\n",
        "    )\n",
        "as ktemperature from washing\n",
        "                    \"\"\" %(meanTemperature(),sdTemperature())).first().ktemperature\n"
      ]
    },
    {
      "cell_type": "markdown",
      "metadata": {
        "id": "aqs8tg-wb3q2"
      },
      "source": [
        "Just a hint. This can be solved easily using SQL as well, but as shown in the lecture also using RDDs."
      ]
    },
    {
      "cell_type": "code",
      "execution_count": 31,
      "metadata": {
        "id": "k1tpjt3sb3q3"
      },
      "outputs": [],
      "source": [
        "def correlationTemperatureHardness():\n",
        "    #TODO Please enter your code here, you are not required to use the template code below\n",
        "    #some reference: https://spark.apache.org/docs/latest/api/python/pyspark.sql.html#pyspark.sql.DataFrame\n",
        "    #https://spark.apache.org/docs/2.3.0/api/sql/\n",
        "    return spark.sql(\"SELECT corr(temperature,hardness) as temperaturehardness from washing\").first().temperaturehardness"
      ]
    },
    {
      "cell_type": "markdown",
      "metadata": {
        "id": "ss05ZeiCb3q4"
      },
      "source": [
        "Now it is time to grab a PARQUET file and create a dataframe out of it. Using SparkSQL you can handle it like a database."
      ]
    },
    {
      "cell_type": "code",
      "execution_count": 12,
      "metadata": {
        "colab": {
          "base_uri": "https://localhost:8080/"
        },
        "id": "bdf2nP-mb3q4",
        "outputId": "a8fc4fd8-b48b-4175-cc6c-c43c86460a00"
      },
      "outputs": [
        {
          "output_type": "stream",
          "name": "stdout",
          "text": [
            "--2023-08-08 18:39:15--  https://github.com/IBM/coursera/blob/master/coursera_ds/washing.parquet?raw=true\n",
            "Resolving github.com (github.com)... 140.82.114.3\n",
            "Connecting to github.com (github.com)|140.82.114.3|:443... connected.\n",
            "HTTP request sent, awaiting response... 301 Moved Permanently\n",
            "Location: https://github.com/claimed-framework/component-library/blob/master/coursera_ds/washing.parquet?raw=true [following]\n",
            "--2023-08-08 18:39:15--  https://github.com/claimed-framework/component-library/blob/master/coursera_ds/washing.parquet?raw=true\n",
            "Reusing existing connection to github.com:443.\n",
            "HTTP request sent, awaiting response... 302 Found\n",
            "Location: https://github.com/claimed-framework/component-library/raw/master/coursera_ds/washing.parquet [following]\n",
            "--2023-08-08 18:39:15--  https://github.com/claimed-framework/component-library/raw/master/coursera_ds/washing.parquet\n",
            "Reusing existing connection to github.com:443.\n",
            "HTTP request sent, awaiting response... 302 Found\n",
            "Location: https://raw.githubusercontent.com/claimed-framework/component-library/master/coursera_ds/washing.parquet [following]\n",
            "--2023-08-08 18:39:15--  https://raw.githubusercontent.com/claimed-framework/component-library/master/coursera_ds/washing.parquet\n",
            "Resolving raw.githubusercontent.com (raw.githubusercontent.com)... 185.199.109.133, 185.199.108.133, 185.199.110.133, ...\n",
            "Connecting to raw.githubusercontent.com (raw.githubusercontent.com)|185.199.109.133|:443... connected.\n",
            "HTTP request sent, awaiting response... 200 OK\n",
            "Length: 112048 (109K) [application/octet-stream]\n",
            "Saving to: ‘washing.parquet?raw=true’\n",
            "\n",
            "washing.parquet?raw 100%[===================>] 109.42K  --.-KB/s    in 0.003s  \n",
            "\n",
            "2023-08-08 18:39:16 (37.5 MB/s) - ‘washing.parquet?raw=true’ saved [112048/112048]\n",
            "\n"
          ]
        }
      ],
      "source": [
        "!wget https://github.com/IBM/coursera/blob/master/coursera_ds/washing.parquet?raw=true\n",
        "!mv washing.parquet?raw=true washing.parquet"
      ]
    },
    {
      "cell_type": "code",
      "execution_count": 13,
      "metadata": {
        "colab": {
          "base_uri": "https://localhost:8080/"
        },
        "id": "3k7CwVDBb3q5",
        "outputId": "ef2fd7c8-dec5-405c-f592-b68d3c16a67d"
      },
      "outputs": [
        {
          "output_type": "stream",
          "name": "stdout",
          "text": [
            "+--------------------+--------------------+-----+--------+----------+---------+--------+-----+-----------+-------------+-------+\n",
            "|                 _id|                _rev|count|flowrate|fluidlevel|frequency|hardness|speed|temperature|           ts|voltage|\n",
            "+--------------------+--------------------+-----+--------+----------+---------+--------+-----+-----------+-------------+-------+\n",
            "|0d86485d0f88d1f9d...|1-57940679fb8a713...|    4|      11|acceptable|     null|      77| null|        100|1547808723923|   null|\n",
            "|0d86485d0f88d1f9d...|1-15ff3a0b304d789...|    2|    null|      null|     null|    null| 1046|       null|1547808729917|   null|\n",
            "|0d86485d0f88d1f9d...|1-97c2742b68c7b07...|    4|    null|      null|       71|    null| null|       null|1547808731918|    236|\n",
            "|0d86485d0f88d1f9d...|1-eefb903dbe45746...|   19|      11|acceptable|     null|      75| null|         86|1547808738999|   null|\n",
            "|0d86485d0f88d1f9d...|1-5f68b4c72813c25...|    7|    null|      null|       75|    null| null|       null|1547808740927|    235|\n",
            "|0d86485d0f88d1f9d...|1-cd4b6c57ddbe77e...|    5|    null|      null|     null|    null| 1014|       null|1547808744923|   null|\n",
            "|0d86485d0f88d1f9d...|1-a35b25b5bf43aaf...|   32|      11|acceptable|     null|      73| null|         84|1547808752028|   null|\n",
            "|0d86485d0f88d1f9d...|1-b717f7289a8476d...|   48|      11|acceptable|     null|      79| null|         84|1547808768065|   null|\n",
            "|0d86485d0f88d1f9d...|1-c2f1f8fcf178b2f...|   18|    null|      null|       73|    null| null|       null|1547808773944|    228|\n",
            "|0d86485d0f88d1f9d...|1-15033dd9eebb4a8...|   59|      11|acceptable|     null|      72| null|         96|1547808779093|   null|\n",
            "|0d86485d0f88d1f9d...|1-753dae825f9a6c2...|   62|      11|acceptable|     null|      73| null|         88|1547808782113|   null|\n",
            "|0d86485d0f88d1f9d...|1-b168089f44f03f0...|   13|    null|      null|     null|    null| 1097|       null|1547808784940|   null|\n",
            "|0d86485d0f88d1f9d...|1-403b687c6be0dea...|   23|    null|      null|       80|    null| null|       null|1547808788955|    236|\n",
            "|0d86485d0f88d1f9d...|1-195551e0455a24b...|   72|      11|acceptable|     null|      77| null|         87|1547808792134|   null|\n",
            "|0d86485d0f88d1f9d...|1-060a39fc6c2ddee...|   26|    null|      null|       62|    null| null|       null|1547808797959|    233|\n",
            "|0d86485d0f88d1f9d...|1-2234514bffee465...|   27|    null|      null|       61|    null| null|       null|1547808800960|    226|\n",
            "|0d86485d0f88d1f9d...|1-4265898bb401db0...|   82|      11|acceptable|     null|      79| null|         96|1547808802154|   null|\n",
            "|0d86485d0f88d1f9d...|1-2fbf7ca9a0425a0...|   94|      11|acceptable|     null|      73| null|         90|1547808814186|   null|\n",
            "|0d86485d0f88d1f9d...|1-203c0ee6d7fbd21...|   97|      11|acceptable|     null|      77| null|         88|1547808817190|   null|\n",
            "|0d86485d0f88d1f9d...|1-47e1965db94fcab...|  104|      11|acceptable|     null|      75| null|         80|1547808824198|   null|\n",
            "+--------------------+--------------------+-----+--------+----------+---------+--------+-----+-----------+-------------+-------+\n",
            "only showing top 20 rows\n",
            "\n"
          ]
        }
      ],
      "source": [
        "df = spark.read.parquet('washing.parquet')\n",
        "df.createOrReplaceTempView('washing')\n",
        "df.show()"
      ]
    },
    {
      "cell_type": "markdown",
      "metadata": {
        "id": "YC4a441Lb3q5"
      },
      "source": [
        "Now let's test the functions you've implemented"
      ]
    },
    {
      "cell_type": "code",
      "execution_count": 14,
      "metadata": {
        "id": "g9ao-0BJb3q6"
      },
      "outputs": [],
      "source": [
        "min_temperature = 0\n",
        "mean_temperature = 0\n",
        "max_temperature = 0\n",
        "sd_temperature = 0\n",
        "skew_temperature = 0\n",
        "kurtosis_temperature = 0\n",
        "correlation_temperature = 0\n"
      ]
    },
    {
      "cell_type": "code",
      "execution_count": 22,
      "metadata": {
        "colab": {
          "base_uri": "https://localhost:8080/"
        },
        "id": "aAB4lGtsb3q6",
        "outputId": "94c5598d-f714-48ed-8208-47d077a0fe77"
      },
      "outputs": [
        {
          "output_type": "stream",
          "name": "stdout",
          "text": [
            "80\n"
          ]
        }
      ],
      "source": [
        "min_temperature = minTemperature()\n",
        "print(min_temperature)"
      ]
    },
    {
      "cell_type": "code",
      "execution_count": 23,
      "metadata": {
        "colab": {
          "base_uri": "https://localhost:8080/"
        },
        "id": "xzW3lP6pb3q7",
        "outputId": "37b6b3f3-4fe7-4e56-9fb4-6b8df67c7143"
      },
      "outputs": [
        {
          "output_type": "stream",
          "name": "stdout",
          "text": [
            "90.03800298062593\n"
          ]
        }
      ],
      "source": [
        "mean_temperature = meanTemperature()\n",
        "print(mean_temperature)"
      ]
    },
    {
      "cell_type": "code",
      "execution_count": 25,
      "metadata": {
        "colab": {
          "base_uri": "https://localhost:8080/"
        },
        "id": "WuKchE6Ob3q7",
        "outputId": "63fb53fd-02f5-4280-e088-feced3db5f5e"
      },
      "outputs": [
        {
          "output_type": "stream",
          "name": "stdout",
          "text": [
            "100\n"
          ]
        }
      ],
      "source": [
        "max_temperature = maxTemperature()\n",
        "print(max_temperature)"
      ]
    },
    {
      "cell_type": "code",
      "execution_count": 24,
      "metadata": {
        "colab": {
          "base_uri": "https://localhost:8080/"
        },
        "id": "7ASv1kfZb3q8",
        "outputId": "bbac1add-ddce-418a-ae51-a8004a9836eb"
      },
      "outputs": [
        {
          "output_type": "stream",
          "name": "stdout",
          "text": [
            "6.1007610586219725\n"
          ]
        }
      ],
      "source": [
        "sd_temperature = sdTemperature()\n",
        "print(sd_temperature)"
      ]
    },
    {
      "cell_type": "code",
      "execution_count": 29,
      "metadata": {
        "colab": {
          "base_uri": "https://localhost:8080/"
        },
        "id": "7QFlGeLHb3q8",
        "outputId": "8dcad6a9-da5f-462c-9663-8f8f9a0d30ea"
      },
      "outputs": [
        {
          "output_type": "stream",
          "name": "stdout",
          "text": [
            "0.010398374583336334\n"
          ]
        }
      ],
      "source": [
        "skew_temperature = skewTemperature()\n",
        "print(skew_temperature)"
      ]
    },
    {
      "cell_type": "code",
      "execution_count": 27,
      "metadata": {
        "colab": {
          "base_uri": "https://localhost:8080/"
        },
        "id": "be78vtvMb3q9",
        "outputId": "07dc0580-7098-4d9c-d3c0-00e682ac8b73"
      },
      "outputs": [
        {
          "output_type": "stream",
          "name": "stdout",
          "text": [
            "1.773427150876985\n"
          ]
        }
      ],
      "source": [
        "kurtosis_temperature = kurtosisTemperature()\n",
        "print(kurtosis_temperature)"
      ]
    },
    {
      "cell_type": "code",
      "execution_count": 32,
      "metadata": {
        "colab": {
          "base_uri": "https://localhost:8080/"
        },
        "id": "7QyyuHYzb3q9",
        "outputId": "2e0b0bfa-c892-42f4-e8bc-7873da934b83"
      },
      "outputs": [
        {
          "output_type": "stream",
          "name": "stdout",
          "text": [
            "0.017754069047296324\n"
          ]
        }
      ],
      "source": [
        "correlation_temperature = correlationTemperatureHardness()\n",
        "print(correlation_temperature)"
      ]
    },
    {
      "cell_type": "markdown",
      "metadata": {
        "id": "DBiy1LRZb3q9"
      },
      "source": [
        "Congratulations, you are done, please submit this notebook to the grader.\n",
        "We have to install a little library in order to submit to coursera first.\n",
        "\n",
        "Then, please provide your email address and obtain a submission token on the grader’s submission page in coursera, then execute the subsequent cells\n",
        "\n",
        "### Note: We've changed the grader in this assignment and will do so for the others soon since it gives less errors\n",
        "This means you can directly submit your solutions from this notebook"
      ]
    },
    {
      "cell_type": "code",
      "execution_count": 33,
      "metadata": {
        "colab": {
          "base_uri": "https://localhost:8080/"
        },
        "id": "oggAu30Pb3q-",
        "outputId": "a2efaea8-b374-4b12-af0e-b35edd6cf368"
      },
      "outputs": [
        {
          "output_type": "stream",
          "name": "stdout",
          "text": [
            "--2023-08-08 18:47:20--  https://raw.githubusercontent.com/IBM/coursera/master/rklib.py\n",
            "Resolving raw.githubusercontent.com (raw.githubusercontent.com)... 185.199.108.133, 185.199.109.133, 185.199.110.133, ...\n",
            "Connecting to raw.githubusercontent.com (raw.githubusercontent.com)|185.199.108.133|:443... connected.\n",
            "HTTP request sent, awaiting response... 200 OK\n",
            "Length: 2540 (2.5K) [text/plain]\n",
            "Saving to: ‘rklib.py’\n",
            "\n",
            "\rrklib.py              0%[                    ]       0  --.-KB/s               \rrklib.py            100%[===================>]   2.48K  --.-KB/s    in 0s      \n",
            "\n",
            "2023-08-08 18:47:20 (18.1 MB/s) - ‘rklib.py’ saved [2540/2540]\n",
            "\n"
          ]
        }
      ],
      "source": [
        "!rm -f rklib.py\n",
        "!wget https://raw.githubusercontent.com/IBM/coursera/master/rklib.py"
      ]
    },
    {
      "cell_type": "code",
      "execution_count": 34,
      "metadata": {
        "id": "Pb9KtQR8b3q-"
      },
      "outputs": [],
      "source": [
        "from rklib import submitAll\n",
        "import json\n",
        "\n",
        "key = \"Suy4biHNEeimFQ479R3GjA\"\n",
        "email = \"ansarip82@gmail.com\" ###_YOUR_CODE_GOES_HERE_###\n",
        "token = \"y7nopYBLzSnPh7CX\" ###_YOUR_CODE_GOES_HERE_### #you can obtain it from the grader page on Coursera"
      ]
    },
    {
      "cell_type": "code",
      "execution_count": 35,
      "metadata": {
        "colab": {
          "base_uri": "https://localhost:8080/"
        },
        "id": "gUszPerHb3q_",
        "outputId": "60b6a91d-e7b9-4c47-ec0e-32dfc0592dd7"
      },
      "outputs": [
        {
          "output_type": "stream",
          "name": "stdout",
          "text": [
            "Submission successful, please check on the coursera grader page for the status\n",
            "-------------------------\n",
            "{\"elements\":[{\"itemId\":\"TzU1P\",\"id\":\"sUpST4RAEeawAApvKZgcCQ~TzU1P~J9N-djYcEe6tlQoThDxRVw\",\"courseId\":\"sUpST4RAEeawAApvKZgcCQ\"}],\"paging\":{},\"linked\":{}}\n",
            "-------------------------\n"
          ]
        }
      ],
      "source": [
        "parts_data = {}\n",
        "parts_data[\"FWMEL\"] = json.dumps(min_temperature)\n",
        "parts_data[\"3n3TK\"] = json.dumps(mean_temperature)\n",
        "parts_data[\"KD3By\"] = json.dumps(max_temperature)\n",
        "parts_data[\"06Zie\"] = json.dumps(sd_temperature)\n",
        "parts_data[\"Qc8bI\"] = json.dumps(skew_temperature)\n",
        "parts_data[\"LoqQi\"] = json.dumps(kurtosis_temperature)\n",
        "parts_data[\"ehNGV\"] = json.dumps(correlation_temperature)\n",
        "\n",
        "\n",
        "\n",
        "submitAll(email, token, key, parts_data)"
      ]
    }
  ],
  "metadata": {
    "kernelspec": {
      "display_name": "Python 3.6",
      "language": "python",
      "name": "python3"
    },
    "language_info": {
      "codemirror_mode": {
        "name": "ipython",
        "version": 3
      },
      "file_extension": ".py",
      "mimetype": "text/x-python",
      "name": "python",
      "nbconvert_exporter": "python",
      "pygments_lexer": "ipython3",
      "version": "3.6.9"
    },
    "colab": {
      "provenance": []
    }
  },
  "nbformat": 4,
  "nbformat_minor": 0
}