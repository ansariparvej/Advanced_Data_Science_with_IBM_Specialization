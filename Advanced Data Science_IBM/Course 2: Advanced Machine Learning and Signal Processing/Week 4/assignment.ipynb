{
  "cells": [
    {
      "metadata": {
        "id": "BC5WLA3BxdvF"
      },
      "cell_type": "markdown",
      "source": [
        "# PLEASE NOTE: Please run this notebook OUTSIDE a Spark notebook as it should run in a plain Default Python 3.9 XS Environment (2 vCPU) Environment\n",
        "\n",
        "This is the last assignment for the Coursera course \"Advanced Machine Learning and Signal Processing\"\n",
        "\n",
        "Just execute all cells one after the other and you are done - just note that in the last one you should update your email address (the one you've used for coursera) and obtain a submission token, you get this from the programming assignment directly on coursera.\n",
        "\n",
        "Please fill in the sections labelled with \"###YOUR_CODE_GOES_HERE###\"\n",
        "\n",
        "The purpose of this assignment is to learn how feature engineering boosts model performance. You will apply Discrete Fourier Transformation on the accelerometer sensor time series and therefore transforming the dataset from the time to the frequency domain.\n",
        "\n",
        "After that, you’ll use a classification algorithm of your choice to create a model and submit the new predictions to the grader. Done.\n",
        "\n"
      ]
    },
    {
      "metadata": {
        "id": "FU9MepRkxdvL"
      },
      "cell_type": "code",
      "source": [
        "from IPython.display import Markdown, display\n",
        "def printmd(string):\n",
        "    display(Markdown('# <span style=\"color:red\">'+string+'</span>'))\n",
        "\n",
        "\n",
        "if ('sc' in locals() or 'sc' in globals()):\n",
        "    printmd('<<<<<!!!!! It seems that you are running in a IBM Watson Studio Apache Spark Notebook. Please run it in an IBM Watson Studio Default Runtime (without Apache Spark) !!!!!>>>>>')\n",
        "\n"
      ],
      "execution_count": 1,
      "outputs": []
    },
    {
      "metadata": {
        "colab": {
          "base_uri": "https://localhost:8080/"
        },
        "id": "1h3YvM-nxdvO",
        "outputId": "be8d31d2-de81-48fd-f0c1-9bdc19807743"
      },
      "cell_type": "code",
      "source": [
        "!pip install pyspark==3.2.1 systemds==2.2.1"
      ],
      "execution_count": 5,
      "outputs": [
        {
          "output_type": "stream",
          "name": "stdout",
          "text": [
            "Collecting pyspark==3.2.1\n",
            "  Downloading pyspark-3.2.1.tar.gz (281.4 MB)\n",
            "\u001b[2K     \u001b[90m━━━━━━━━━━━━━━━━━━━━━━━━━━━━━━━━━━━━━━━\u001b[0m \u001b[32m281.4/281.4 MB\u001b[0m \u001b[31m3.3 MB/s\u001b[0m eta \u001b[36m0:00:00\u001b[0m\n",
            "\u001b[?25h  Preparing metadata (setup.py) ... \u001b[?25l\u001b[?25hdone\n",
            "Collecting systemds==2.2.1\n",
            "  Downloading systemds-2.2.1-py3-none-any.whl (50.9 MB)\n",
            "\u001b[2K     \u001b[90m━━━━━━━━━━━━━━━━━━━━━━━━━━━━━━━━━━━━━━━━\u001b[0m \u001b[32m50.9/50.9 MB\u001b[0m \u001b[31m7.6 MB/s\u001b[0m eta \u001b[36m0:00:00\u001b[0m\n",
            "\u001b[?25hCollecting py4j==0.10.9.3 (from pyspark==3.2.1)\n",
            "  Downloading py4j-0.10.9.3-py2.py3-none-any.whl (198 kB)\n",
            "\u001b[2K     \u001b[90m━━━━━━━━━━━━━━━━━━━━━━━━━━━━━━━━━━━━━━\u001b[0m \u001b[32m199.0/199.0 kB\u001b[0m \u001b[31m16.5 MB/s\u001b[0m eta \u001b[36m0:00:00\u001b[0m\n",
            "\u001b[?25hRequirement already satisfied: numpy>=1.8.2 in /usr/local/lib/python3.10/dist-packages (from systemds==2.2.1) (1.22.4)\n",
            "Requirement already satisfied: requests>=2.24.0 in /usr/local/lib/python3.10/dist-packages (from systemds==2.2.1) (2.27.1)\n",
            "Requirement already satisfied: pandas>=1.2.2 in /usr/local/lib/python3.10/dist-packages (from systemds==2.2.1) (1.5.3)\n",
            "Requirement already satisfied: python-dateutil>=2.8.1 in /usr/local/lib/python3.10/dist-packages (from pandas>=1.2.2->systemds==2.2.1) (2.8.2)\n",
            "Requirement already satisfied: pytz>=2020.1 in /usr/local/lib/python3.10/dist-packages (from pandas>=1.2.2->systemds==2.2.1) (2022.7.1)\n",
            "Requirement already satisfied: urllib3<1.27,>=1.21.1 in /usr/local/lib/python3.10/dist-packages (from requests>=2.24.0->systemds==2.2.1) (1.26.16)\n",
            "Requirement already satisfied: certifi>=2017.4.17 in /usr/local/lib/python3.10/dist-packages (from requests>=2.24.0->systemds==2.2.1) (2023.7.22)\n",
            "Requirement already satisfied: charset-normalizer~=2.0.0 in /usr/local/lib/python3.10/dist-packages (from requests>=2.24.0->systemds==2.2.1) (2.0.12)\n",
            "Requirement already satisfied: idna<4,>=2.5 in /usr/local/lib/python3.10/dist-packages (from requests>=2.24.0->systemds==2.2.1) (3.4)\n",
            "Requirement already satisfied: six>=1.5 in /usr/local/lib/python3.10/dist-packages (from python-dateutil>=2.8.1->pandas>=1.2.2->systemds==2.2.1) (1.16.0)\n",
            "Building wheels for collected packages: pyspark\n",
            "  Building wheel for pyspark (setup.py) ... \u001b[?25l\u001b[?25hdone\n",
            "  Created wheel for pyspark: filename=pyspark-3.2.1-py2.py3-none-any.whl size=281853626 sha256=0f125d30b2f8fc729adca7fdc066704cf4067e0fe5f57891d6fa1a8c191e2c6e\n",
            "  Stored in directory: /root/.cache/pip/wheels/15/97/bd/52908574a60b5f8e3dc4dc5a0b5be8a59ac20986ee51c2611b\n",
            "Successfully built pyspark\n",
            "Installing collected packages: py4j, pyspark, systemds\n",
            "  Attempting uninstall: py4j\n",
            "    Found existing installation: py4j 0.10.9.7\n",
            "    Uninstalling py4j-0.10.9.7:\n",
            "      Successfully uninstalled py4j-0.10.9.7\n",
            "  Attempting uninstall: pyspark\n",
            "    Found existing installation: pyspark 3.4.1\n",
            "    Uninstalling pyspark-3.4.1:\n",
            "      Successfully uninstalled pyspark-3.4.1\n",
            "Successfully installed py4j-0.10.9.3 pyspark-3.2.1 systemds-2.2.1\n"
          ]
        }
      ]
    },
    {
      "metadata": {
        "id": "tHf_gzKCxdvS"
      },
      "cell_type": "code",
      "source": [
        "from pyspark import SparkContext, SparkConf\n",
        "from pyspark.sql import SQLContext, SparkSession\n",
        "from pyspark.sql.types import StructType, StructField, DoubleType, IntegerType, StringType\n",
        "sc = SparkContext.getOrCreate(SparkConf().setMaster(\"local[*]\"))\n",
        "from pyspark.sql import SparkSession\n",
        "spark = SparkSession \\\n",
        "    .builder \\\n",
        "    .getOrCreate()"
      ],
      "execution_count": 6,
      "outputs": []
    },
    {
      "metadata": {
        "id": "3pHmLmR9xdvU"
      },
      "cell_type": "markdown",
      "source": [
        "\n",
        "So the first thing we need to ensure is that we are on the latest version of SystemML, which is 1.3.0 (as of 20th March'19) Please use the code block below to check if you are already on 1.3.0 or higher. 1.3 contains a necessary fix, that's we are running against the SNAPSHOT\n"
      ]
    },
    {
      "metadata": {
        "colab": {
          "base_uri": "https://localhost:8080/"
        },
        "id": "9i6ps7ezxdva",
        "outputId": "2a3c0e86-e48b-449b-fbf9-9dedade60753"
      },
      "cell_type": "code",
      "source": [
        "!wget https://github.com/IBM/coursera/blob/master/coursera_ml/shake.parquet?raw=true\n",
        "!mv shake.parquet?raw=true shake.parquet"
      ],
      "execution_count": 7,
      "outputs": [
        {
          "output_type": "stream",
          "name": "stdout",
          "text": [
            "--2023-07-26 20:01:15--  https://github.com/IBM/coursera/blob/master/coursera_ml/shake.parquet?raw=true\n",
            "Resolving github.com (github.com)... 140.82.113.4\n",
            "Connecting to github.com (github.com)|140.82.113.4|:443... connected.\n",
            "HTTP request sent, awaiting response... 301 Moved Permanently\n",
            "Location: https://github.com/claimed-framework/component-library/blob/master/coursera_ml/shake.parquet?raw=true [following]\n",
            "--2023-07-26 20:01:15--  https://github.com/claimed-framework/component-library/blob/master/coursera_ml/shake.parquet?raw=true\n",
            "Reusing existing connection to github.com:443.\n",
            "HTTP request sent, awaiting response... 302 Found\n",
            "Location: https://github.com/claimed-framework/component-library/raw/master/coursera_ml/shake.parquet [following]\n",
            "--2023-07-26 20:01:15--  https://github.com/claimed-framework/component-library/raw/master/coursera_ml/shake.parquet\n",
            "Reusing existing connection to github.com:443.\n",
            "HTTP request sent, awaiting response... 302 Found\n",
            "Location: https://raw.githubusercontent.com/claimed-framework/component-library/master/coursera_ml/shake.parquet [following]\n",
            "--2023-07-26 20:01:15--  https://raw.githubusercontent.com/claimed-framework/component-library/master/coursera_ml/shake.parquet\n",
            "Resolving raw.githubusercontent.com (raw.githubusercontent.com)... 185.199.110.133, 185.199.109.133, 185.199.111.133, ...\n",
            "Connecting to raw.githubusercontent.com (raw.githubusercontent.com)|185.199.110.133|:443... connected.\n",
            "HTTP request sent, awaiting response... 200 OK\n",
            "Length: 74727 (73K) [application/octet-stream]\n",
            "Saving to: ‘shake.parquet?raw=true’\n",
            "\n",
            "shake.parquet?raw=t 100%[===================>]  72.98K  --.-KB/s    in 0.01s   \n",
            "\n",
            "2023-07-26 20:01:15 (5.03 MB/s) - ‘shake.parquet?raw=true’ saved [74727/74727]\n",
            "\n"
          ]
        }
      ]
    },
    {
      "metadata": {
        "id": "QrU0utx9xdvb"
      },
      "cell_type": "markdown",
      "source": [
        "Now it’s time to read the sensor data and create a temporary query table."
      ]
    },
    {
      "metadata": {
        "id": "lQSdnKyuxdvc"
      },
      "cell_type": "code",
      "source": [
        "df=spark.read.parquet('shake.parquet')"
      ],
      "execution_count": 8,
      "outputs": []
    },
    {
      "metadata": {
        "colab": {
          "base_uri": "https://localhost:8080/"
        },
        "id": "8aoSfPtBxdvd",
        "outputId": "8985b57e-6bd9-4444-81f9-dc1c81003127"
      },
      "cell_type": "code",
      "source": [
        "df.show()"
      ],
      "execution_count": 9,
      "outputs": [
        {
          "output_type": "stream",
          "name": "stdout",
          "text": [
            "+-----+---------+-----+-----+-----+\n",
            "|CLASS| SENSORID|    X|    Y|    Z|\n",
            "+-----+---------+-----+-----+-----+\n",
            "|    2| qqqqqqqq| 0.12| 0.12| 0.12|\n",
            "|    2|aUniqueID| 0.03| 0.03| 0.03|\n",
            "|    2| qqqqqqqq|-3.84|-3.84|-3.84|\n",
            "|    2| 12345678| -0.1| -0.1| -0.1|\n",
            "|    2| 12345678|-0.15|-0.15|-0.15|\n",
            "|    2| 12345678| 0.47| 0.47| 0.47|\n",
            "|    2| 12345678|-0.06|-0.06|-0.06|\n",
            "|    2| 12345678|-0.09|-0.09|-0.09|\n",
            "|    2| 12345678| 0.21| 0.21| 0.21|\n",
            "|    2| 12345678|-0.08|-0.08|-0.08|\n",
            "|    2| 12345678| 0.44| 0.44| 0.44|\n",
            "|    2|    gholi| 0.76| 0.76| 0.76|\n",
            "|    2|    gholi| 1.62| 1.62| 1.62|\n",
            "|    2|    gholi| 5.81| 5.81| 5.81|\n",
            "|    2| bcbcbcbc| 0.58| 0.58| 0.58|\n",
            "|    2| bcbcbcbc|-8.24|-8.24|-8.24|\n",
            "|    2| bcbcbcbc|-0.45|-0.45|-0.45|\n",
            "|    2| bcbcbcbc| 1.03| 1.03| 1.03|\n",
            "|    2|aUniqueID|-0.05|-0.05|-0.05|\n",
            "|    2| qqqqqqqq|-0.44|-0.44|-0.44|\n",
            "+-----+---------+-----+-----+-----+\n",
            "only showing top 20 rows\n",
            "\n"
          ]
        }
      ]
    },
    {
      "metadata": {
        "id": "bV34vftLxdvf"
      },
      "cell_type": "code",
      "source": [
        "df.createOrReplaceTempView(\"df\")"
      ],
      "execution_count": 10,
      "outputs": []
    },
    {
      "metadata": {
        "id": "j-vl-T3Mxdvf"
      },
      "cell_type": "markdown",
      "source": [
        "We’ll use Apache SystemML to implement Discrete Fourier Transformation. This way all computation continues to happen on the Apache Spark cluster for advanced scalability and performance."
      ]
    },
    {
      "metadata": {
        "id": "RiQVIp1Mxdvg"
      },
      "cell_type": "markdown",
      "source": [
        "As you’ve learned from the lecture, implementing Discrete Fourier Transformation in a linear algebra programming language is simple. Apache SystemML DML is such a language and as you can see the implementation is straightforward and doesn’t differ too much from the mathematical definition (Just note that the sum operator has been swapped with a vector dot product using the %*% syntax borrowed from R\n",
        "):\n",
        "\n",
        "<img style=\"float: left;\" src=\"https://wikimedia.org/api/rest_v1/media/math/render/svg/1af0a78dc50bbf118ab6bd4c4dcc3c4ff8502223\">\n",
        "\n"
      ]
    },
    {
      "metadata": {
        "id": "gXIxmgyexdvh"
      },
      "cell_type": "markdown",
      "source": [
        "Now it’s time to create a function which takes a single row Apache Spark data frame as argument (the one containing the accelerometer measurement time series for one axis) and returns the Fourier transformation of it. In addition, we are adding an index column for later joining all axis together and renaming the columns to appropriate names. The result of this function is an Apache Spark DataFrame containing the Fourier Transformation of its input in two columns.\n"
      ]
    },
    {
      "metadata": {
        "id": "nM9aAG1Yxdvh"
      },
      "cell_type": "code",
      "source": [
        "from pyspark.sql.functions import monotonically_increasing_id\n",
        "from systemds.context import SystemDSContext\n",
        "import numpy as np\n",
        "import pandas as pd\n",
        "\n",
        "def dft_systemds(signal,name):\n",
        "\n",
        "\n",
        "    with SystemDSContext(spark) as sds:\n",
        "        size = signal.count()\n",
        "        signal = sds.from_numpy(signal.toPandas().to_numpy())\n",
        "        pi = sds.scalar(3.141592654)\n",
        "\n",
        "        n = sds.seq(0,size-1)\n",
        "        k = sds.seq(0,size-1)\n",
        "\n",
        "        M = (n @ (k.t())) * (2*pi/size)\n",
        "\n",
        "        Xa = M.cos() @ signal\n",
        "        Xb = M.sin() @ signal\n",
        "\n",
        "        index = (list(map(lambda x: [x],np.array(range(0, size, 1)))))\n",
        "        DFT = np.hstack((index,Xa.cbind(Xb).compute()))\n",
        "        DFT_pdf = pd.DataFrame(DFT, columns=list([\"id\",name+'_sin',name+'_cos']))\n",
        "        DFT_df = spark.createDataFrame(DFT_pdf)\n",
        "        return DFT_df"
      ],
      "execution_count": 11,
      "outputs": []
    },
    {
      "metadata": {
        "id": "cXpLBh0fxdvi"
      },
      "cell_type": "markdown",
      "source": [
        "Now it’s time to create individual DataFrames containing only a subset of the data. We filter simultaneously for accelerometer each sensor axis and one for each class. This means you’ll get 6 DataFrames. Please implement this using the relational API of DataFrames or SparkSQL. Please use class 1 and 2 and not 0 and 1. <h1><span style=\"color:red\">Please make sure that each DataFrame has only ONE colum (only the measurement, eg. not CLASS column)</span></h1>\n"
      ]
    },
    {
      "metadata": {
        "id": "fFAGmcrhxdvi"
      },
      "cell_type": "code",
      "source": [
        "x0 = spark.sql(\"SELECT X from df where class = 0\")\n",
        "y0 = spark.sql(\"SELECT Y from df where class = 0\")\n",
        "z0 = spark.sql(\"SELECT Z from df where class = 0\")\n",
        "x1 = spark.sql(\"SELECT X from df where class = 1\")\n",
        "y1 = spark.sql(\"SELECT Y from df where class = 1\")\n",
        "z1 = spark.sql(\"SELECT Z from df where class = 1\")"
      ],
      "execution_count": 12,
      "outputs": []
    },
    {
      "metadata": {
        "id": "qqgR2yaXxdvj"
      },
      "cell_type": "markdown",
      "source": [
        "Since we’ve created this cool DFT function before, we can just call it for each of the 6 DataFrames now. And since the result of this function call is a DataFrame again we can use the pyspark best practice in simply calling methods on it sequentially. So what we are doing is the following:\n",
        "\n",
        "- Calling DFT for each class and accelerometer sensor axis.\n",
        "- Joining them together on the ID column.\n",
        "- Re-adding a column containing the class index.\n",
        "- Stacking both Dataframes for each classes together\n",
        "\n"
      ]
    },
    {
      "metadata": {
        "colab": {
          "base_uri": "https://localhost:8080/"
        },
        "id": "4dHD5XWcxdvj",
        "outputId": "041f700e-579c-4f78-964c-138a5740eb0f"
      },
      "cell_type": "code",
      "source": [
        "from pyspark.sql.functions import lit\n",
        "\n",
        "df_class_0 = dft_systemds(x0,'x') \\\n",
        "    .join(dft_systemds(y0,'y'), on=['id'], how='inner') \\\n",
        "    .join(dft_systemds(z0,'z'), on=['id'], how='inner') \\\n",
        "    .withColumn('class', lit(0))\n",
        "\n",
        "df_class_1 = dft_systemds(x1,'x') \\\n",
        "    .join(dft_systemds(y1,'y'), on=['id'], how='inner') \\\n",
        "    .join(dft_systemds(z1,'z'), on=['id'], how='inner') \\\n",
        "    .withColumn('class', lit(1))\n",
        "\n",
        "df_dft = df_class_0.union(df_class_1)\n",
        "\n",
        "df_dft.show()"
      ],
      "execution_count": 14,
      "outputs": [
        {
          "output_type": "stream",
          "name": "stderr",
          "text": [
            "/usr/local/lib/python3.10/dist-packages/pyspark/sql/pandas/conversion.py:371: FutureWarning: iteritems is deprecated and will be removed in a future version. Use .items instead.\n",
            "  for column, series in pdf.iteritems():\n",
            "/usr/local/lib/python3.10/dist-packages/pyspark/sql/pandas/conversion.py:371: FutureWarning: iteritems is deprecated and will be removed in a future version. Use .items instead.\n",
            "  for column, series in pdf.iteritems():\n",
            "/usr/local/lib/python3.10/dist-packages/pyspark/sql/pandas/conversion.py:371: FutureWarning: iteritems is deprecated and will be removed in a future version. Use .items instead.\n",
            "  for column, series in pdf.iteritems():\n",
            "/usr/local/lib/python3.10/dist-packages/pyspark/sql/pandas/conversion.py:371: FutureWarning: iteritems is deprecated and will be removed in a future version. Use .items instead.\n",
            "  for column, series in pdf.iteritems():\n",
            "/usr/local/lib/python3.10/dist-packages/pyspark/sql/pandas/conversion.py:371: FutureWarning: iteritems is deprecated and will be removed in a future version. Use .items instead.\n",
            "  for column, series in pdf.iteritems():\n",
            "/usr/local/lib/python3.10/dist-packages/pyspark/sql/pandas/conversion.py:371: FutureWarning: iteritems is deprecated and will be removed in a future version. Use .items instead.\n",
            "  for column, series in pdf.iteritems():\n"
          ]
        },
        {
          "output_type": "stream",
          "name": "stdout",
          "text": [
            "+----+--------------------+--------------------+--------------------+--------------------+--------------------+--------------------+-----+\n",
            "|  id|               x_sin|               x_cos|               y_sin|               y_cos|               z_sin|               z_cos|class|\n",
            "+----+--------------------+--------------------+--------------------+--------------------+--------------------+--------------------+-----+\n",
            "| 0.0|                 0.0|                 0.0|                 0.0|                 0.0|                 0.0|                 0.0|    0|\n",
            "| 1.0|                 0.0|                 0.0|                 0.0|                 0.0|                 0.0|                 0.0|    0|\n",
            "| 4.0|                 0.0|                 0.0|                 0.0|                 0.0|                 0.0|                 0.0|    0|\n",
            "| 3.0|                 0.0|                 0.0|                 0.0|                 0.0|                 0.0|                 0.0|    0|\n",
            "| 2.0|                 0.0|                 0.0|                 0.0|                 0.0|                 0.0|                 0.0|    0|\n",
            "| 6.0|                 0.0|                 0.0|                 0.0|                 0.0|                 0.0|                 0.0|    0|\n",
            "| 5.0|                 0.0|                 0.0|                 0.0|                 0.0|                 0.0|                 0.0|    0|\n",
            "| 8.0|                 0.0|                 0.0|                 0.0|                 0.0|                 0.0|                 0.0|    0|\n",
            "| 7.0|                 0.0|                 0.0|                 0.0|                 0.0|                 0.0|                 0.0|    0|\n",
            "|11.0|                 0.0|                 0.0|                 0.0|                 0.0|                 0.0|                 0.0|    0|\n",
            "|10.0|                 0.0|                 0.0|                 0.0|                 0.0|                 0.0|                 0.0|    0|\n",
            "|13.0|                 0.0|                 0.0|                 0.0|                 0.0|                 0.0|                 0.0|    0|\n",
            "| 9.0|                 0.0|                 0.0|                 0.0|                 0.0|                 0.0|                 0.0|    0|\n",
            "|12.0|                 0.0|                 0.0|                 0.0|                 0.0|                 0.0|                 0.0|    0|\n",
            "| 8.0|0.007264897147586408|0.050779226648936575|0.007264897147586408|0.050779226648936575|0.007264897147586408|0.050779226648936575|    1|\n",
            "| 0.0|               -0.13|                 0.0|               -0.13|                 0.0|               -0.13|                 0.0|    1|\n",
            "| 7.0| 0.04362147198699657| 0.04661273969005281| 0.04362147198699657| 0.04661273969005281| 0.04362147198699657| 0.04661273969005281|    1|\n",
            "|49.0|-0.07768949082949561|0.039133460895471164|-0.07768949082949561|0.039133460895471164|-0.07768949082949561|0.039133460895471164|    1|\n",
            "|29.0|-0.10895275079055323|-0.04017484023996344|-0.10895275079055323|-0.04017484023996344|-0.10895275079055323|-0.04017484023996344|    1|\n",
            "|47.0|-0.00210545483171...|0.005169172060822...|-0.00210545483171...|0.005169172060822...|-0.00210545483171...|0.005169172060822...|    1|\n",
            "+----+--------------------+--------------------+--------------------+--------------------+--------------------+--------------------+-----+\n",
            "only showing top 20 rows\n",
            "\n"
          ]
        }
      ]
    },
    {
      "metadata": {
        "id": "uD8kxTVdxdvk"
      },
      "cell_type": "markdown",
      "source": [
        "Please create a VectorAssembler which consumes the newly created DFT columns and produces a column “features”\n"
      ]
    },
    {
      "metadata": {
        "id": "h-1onhCwxdvk"
      },
      "cell_type": "code",
      "source": [
        "from pyspark.ml.feature import VectorAssembler"
      ],
      "execution_count": 15,
      "outputs": []
    },
    {
      "metadata": {
        "id": "jey3EE09xdvk"
      },
      "cell_type": "code",
      "source": [
        "vectorAssembler = VectorAssembler(\n",
        "    inputCols=[\"id\", \"x_sin\", \"x_cos\", \"y_sin\", \"y_cos\", \"z_sin\", \"z_cos\"],\n",
        "    outputCol=\"features\")"
      ],
      "execution_count": 34,
      "outputs": []
    },
    {
      "metadata": {
        "id": "2Ih3ScO1xdvl"
      },
      "cell_type": "markdown",
      "source": [
        "Please insatiate a classifier from the SparkML package and assign it to the classifier variable. Make sure to set the “class” column as target.\n"
      ]
    },
    {
      "metadata": {
        "id": "dAQ62_f6xdvl"
      },
      "cell_type": "code",
      "source": [
        "from pyspark.ml.classification import GBTClassifier"
      ],
      "execution_count": 35,
      "outputs": []
    },
    {
      "metadata": {
        "id": "WRhofHPRxdvl"
      },
      "cell_type": "code",
      "source": [
        "classifier = GBTClassifier(labelCol=\"class\", featuresCol=\"features\")"
      ],
      "execution_count": 36,
      "outputs": []
    },
    {
      "metadata": {
        "id": "_ufCYyLJxdvl"
      },
      "cell_type": "markdown",
      "source": [
        "Let’s train and evaluate…\n"
      ]
    },
    {
      "metadata": {
        "id": "SYbOtZTXxdvm"
      },
      "cell_type": "code",
      "source": [
        "from pyspark.ml import Pipeline\n",
        "pipeline = Pipeline(stages=[vectorAssembler, classifier])\n"
      ],
      "execution_count": 37,
      "outputs": []
    },
    {
      "metadata": {
        "id": "xB16a2-Wxdvn"
      },
      "cell_type": "code",
      "source": [
        "model = pipeline.fit(df_dft)"
      ],
      "execution_count": 38,
      "outputs": []
    },
    {
      "metadata": {
        "id": "ywpQYpRvxdvn"
      },
      "cell_type": "code",
      "source": [
        "prediction = model.transform(df_dft)"
      ],
      "execution_count": 39,
      "outputs": []
    },
    {
      "metadata": {
        "colab": {
          "base_uri": "https://localhost:8080/"
        },
        "id": "Hwhvgk3Uxdvo",
        "outputId": "94f78499-ecdd-49c7-8281-07a51523f1b4"
      },
      "cell_type": "code",
      "source": [
        "prediction.show()"
      ],
      "execution_count": 40,
      "outputs": [
        {
          "output_type": "stream",
          "name": "stdout",
          "text": [
            "+----+--------------------+--------------------+--------------------+--------------------+--------------------+--------------------+-----+--------------------+--------------------+--------------------+----------+\n",
            "|  id|               x_sin|               x_cos|               y_sin|               y_cos|               z_sin|               z_cos|class|            features|       rawPrediction|         probability|prediction|\n",
            "+----+--------------------+--------------------+--------------------+--------------------+--------------------+--------------------+-----+--------------------+--------------------+--------------------+----------+\n",
            "| 0.0|                 0.0|                 0.0|                 0.0|                 0.0|                 0.0|                 0.0|    0|           (7,[],[])|[1.54350200272498...|[0.95635347857270...|       0.0|\n",
            "| 1.0|                 0.0|                 0.0|                 0.0|                 0.0|                 0.0|                 0.0|    0|       (7,[0],[1.0])|[1.54350200272498...|[0.95635347857270...|       0.0|\n",
            "| 4.0|                 0.0|                 0.0|                 0.0|                 0.0|                 0.0|                 0.0|    0|       (7,[0],[4.0])|[1.54350200272498...|[0.95635347857270...|       0.0|\n",
            "| 3.0|                 0.0|                 0.0|                 0.0|                 0.0|                 0.0|                 0.0|    0|       (7,[0],[3.0])|[1.54350200272498...|[0.95635347857270...|       0.0|\n",
            "| 2.0|                 0.0|                 0.0|                 0.0|                 0.0|                 0.0|                 0.0|    0|       (7,[0],[2.0])|[1.54350200272498...|[0.95635347857270...|       0.0|\n",
            "| 6.0|                 0.0|                 0.0|                 0.0|                 0.0|                 0.0|                 0.0|    0|       (7,[0],[6.0])|[1.54350200272498...|[0.95635347857270...|       0.0|\n",
            "| 5.0|                 0.0|                 0.0|                 0.0|                 0.0|                 0.0|                 0.0|    0|       (7,[0],[5.0])|[1.54350200272498...|[0.95635347857270...|       0.0|\n",
            "| 8.0|                 0.0|                 0.0|                 0.0|                 0.0|                 0.0|                 0.0|    0|       (7,[0],[8.0])|[1.54350200272498...|[0.95635347857270...|       0.0|\n",
            "| 7.0|                 0.0|                 0.0|                 0.0|                 0.0|                 0.0|                 0.0|    0|       (7,[0],[7.0])|[1.54350200272498...|[0.95635347857270...|       0.0|\n",
            "|11.0|                 0.0|                 0.0|                 0.0|                 0.0|                 0.0|                 0.0|    0|      (7,[0],[11.0])|[1.54350200272498...|[0.95635347857270...|       0.0|\n",
            "|10.0|                 0.0|                 0.0|                 0.0|                 0.0|                 0.0|                 0.0|    0|      (7,[0],[10.0])|[1.54350200272498...|[0.95635347857270...|       0.0|\n",
            "|13.0|                 0.0|                 0.0|                 0.0|                 0.0|                 0.0|                 0.0|    0|      (7,[0],[13.0])|[1.54350200272498...|[0.95635347857270...|       0.0|\n",
            "| 9.0|                 0.0|                 0.0|                 0.0|                 0.0|                 0.0|                 0.0|    0|       (7,[0],[9.0])|[1.54350200272498...|[0.95635347857270...|       0.0|\n",
            "|12.0|                 0.0|                 0.0|                 0.0|                 0.0|                 0.0|                 0.0|    0|      (7,[0],[12.0])|[1.54350200272498...|[0.95635347857270...|       0.0|\n",
            "| 8.0|0.007264897147586408|0.050779226648936575|0.007264897147586408|0.050779226648936575|0.007264897147586408|0.050779226648936575|    1|[8.0,0.0072648971...|[-1.5435020027249...|[0.04364652142729...|       1.0|\n",
            "| 0.0|               -0.13|                 0.0|               -0.13|                 0.0|               -0.13|                 0.0|    1|(7,[1,3,5],[-0.13...|[-1.5435020027249...|[0.04364652142729...|       1.0|\n",
            "| 7.0| 0.04362147198699657| 0.04661273969005281| 0.04362147198699657| 0.04661273969005281| 0.04362147198699657| 0.04661273969005281|    1|[7.0,0.0436214719...|[-1.5435020027249...|[0.04364652142729...|       1.0|\n",
            "|49.0|-0.07768949082949561|0.039133460895471164|-0.07768949082949561|0.039133460895471164|-0.07768949082949561|0.039133460895471164|    1|[49.0,-0.07768949...|[-1.5435020027249...|[0.04364652142729...|       1.0|\n",
            "|29.0|-0.10895275079055323|-0.04017484023996344|-0.10895275079055323|-0.04017484023996344|-0.10895275079055323|-0.04017484023996344|    1|[29.0,-0.10895275...|[-1.5435020027249...|[0.04364652142729...|       1.0|\n",
            "|47.0|-0.00210545483171...|0.005169172060822...|-0.00210545483171...|0.005169172060822...|-0.00210545483171...|0.005169172060822...|    1|[47.0,-0.00210545...|[-1.5435020027249...|[0.04364652142729...|       1.0|\n",
            "+----+--------------------+--------------------+--------------------+--------------------+--------------------+--------------------+-----+--------------------+--------------------+--------------------+----------+\n",
            "only showing top 20 rows\n",
            "\n"
          ]
        }
      ]
    },
    {
      "metadata": {
        "colab": {
          "base_uri": "https://localhost:8080/"
        },
        "id": "XvmRUtDaxdvo",
        "outputId": "2f7f652b-0b29-44bb-9ea5-e306d0f06d02"
      },
      "cell_type": "code",
      "source": [
        "from pyspark.ml.evaluation import MulticlassClassificationEvaluator\n",
        "binEval = MulticlassClassificationEvaluator().setMetricName(\"accuracy\") .setPredictionCol(\"prediction\").setLabelCol(\"class\")\n",
        "\n",
        "binEval.evaluate(prediction)"
      ],
      "execution_count": 41,
      "outputs": [
        {
          "output_type": "execute_result",
          "data": {
            "text/plain": [
              "1.0"
            ]
          },
          "metadata": {},
          "execution_count": 41
        }
      ]
    },
    {
      "metadata": {
        "id": "8SJobbydxdvp"
      },
      "cell_type": "markdown",
      "source": [
        "If you are happy with the result (I’m happy with > 0.8) please submit your solution to the grader by executing the following cells, please don’t forget to obtain an assignment submission token (secret) from the Courera’s graders web page and paste it to the “secret” variable below, including your email address you’ve used for Coursera.\n"
      ]
    },
    {
      "metadata": {
        "id": "4FsKay6Qxdvq"
      },
      "cell_type": "code",
      "source": [
        "!rm -Rf a2_m4.json"
      ],
      "execution_count": 42,
      "outputs": []
    },
    {
      "metadata": {
        "id": "WUNq7pCFxdvq"
      },
      "cell_type": "code",
      "source": [
        "prediction = prediction.repartition(1)\n",
        "prediction.write.json('a2_m4.json')"
      ],
      "execution_count": 43,
      "outputs": []
    },
    {
      "cell_type": "code",
      "source": [
        "!base64 a2_m4.json.zip > a2_m4.json.zip.base64"
      ],
      "metadata": {
        "colab": {
          "base_uri": "https://localhost:8080/"
        },
        "id": "GENckH4C28ep",
        "outputId": "d56c0ca2-56f2-487c-c7b2-aa4ed2f45d63"
      },
      "execution_count": 44,
      "outputs": [
        {
          "output_type": "stream",
          "name": "stdout",
          "text": [
            "base64: a2_m4.json.zip: No such file or directory\n"
          ]
        }
      ]
    },
    {
      "metadata": {
        "colab": {
          "base_uri": "https://localhost:8080/"
        },
        "id": "OB36n3eJxdvr",
        "outputId": "da3d3393-f04b-4902-9224-58f439840c9b"
      },
      "cell_type": "code",
      "source": [
        "!rm -f rklib.py\n",
        "!wget wget https://raw.githubusercontent.com/IBM/coursera/master/rklib.py"
      ],
      "execution_count": 45,
      "outputs": [
        {
          "output_type": "stream",
          "name": "stdout",
          "text": [
            "--2023-07-26 20:20:30--  http://wget/\n",
            "Resolving wget (wget)... failed: Name or service not known.\n",
            "wget: unable to resolve host address ‘wget’\n",
            "--2023-07-26 20:20:30--  https://raw.githubusercontent.com/IBM/coursera/master/rklib.py\n",
            "Resolving raw.githubusercontent.com (raw.githubusercontent.com)... 185.199.110.133, 185.199.109.133, 185.199.111.133, ...\n",
            "Connecting to raw.githubusercontent.com (raw.githubusercontent.com)|185.199.110.133|:443... connected.\n",
            "HTTP request sent, awaiting response... 200 OK\n",
            "Length: 2540 (2.5K) [text/plain]\n",
            "Saving to: ‘rklib.py’\n",
            "\n",
            "\rrklib.py              0%[                    ]       0  --.-KB/s               \rrklib.py            100%[===================>]   2.48K  --.-KB/s    in 0s      \n",
            "\n",
            "2023-07-26 20:20:31 (14.8 MB/s) - ‘rklib.py’ saved [2540/2540]\n",
            "\n",
            "FINISHED --2023-07-26 20:20:31--\n",
            "Total wall clock time: 0.2s\n",
            "Downloaded: 1 files, 2.5K in 0s (14.8 MB/s)\n"
          ]
        }
      ]
    },
    {
      "metadata": {
        "id": "o3hiH8jIxdvr"
      },
      "cell_type": "code",
      "source": [
        "from rklib import zipit\n",
        "zipit('a2_m4.json.zip','a2_m4.json')"
      ],
      "execution_count": 46,
      "outputs": []
    },
    {
      "metadata": {
        "id": "ikP5UcF2xdvs"
      },
      "cell_type": "code",
      "source": [
        "!base64 a2_m4.json.zip > a2_m4.json.zip.base64"
      ],
      "execution_count": 47,
      "outputs": []
    },
    {
      "metadata": {
        "colab": {
          "base_uri": "https://localhost:8080/"
        },
        "id": "Xv84JXgNxdvs",
        "outputId": "3bcfd898-efe0-4e33-fda6-3a866b4f2195"
      },
      "cell_type": "code",
      "source": [
        "from rklib import submit\n",
        "key = \"-fBiYHYDEeiR4QqiFhAvkA\"\n",
        "part = \"IjtJk\"\n",
        "email = \"ansarip82@gmail.com\" ###YOUR_CODE_GOES_HERE###\n",
        "submission_token = \"RwrBd25O9OJQmIKP\" ###YOUR_CODE_GOES_HERE### # (have a look here if you need more information on how to obtain the token https://youtu.be/GcDo0Rwe06U?t=276)\n",
        "\n",
        "with open('a2_m4.json.zip.base64', 'r') as myfile:\n",
        "    data=myfile.read()\n",
        "submit(email, submission_token, key, part, [part], data)"
      ],
      "execution_count": 48,
      "outputs": [
        {
          "output_type": "stream",
          "name": "stdout",
          "text": [
            "Submission successful, please check on the coursera grader page for the status\n",
            "-------------------------\n",
            "{\"elements\":[{\"itemId\":\"B8wXV\",\"id\":\"f_F-qCtuEei_fRLwaVDk3g~B8wXV~58QFoCvxEe6AghJMbC-RJw\",\"courseId\":\"f_F-qCtuEei_fRLwaVDk3g\"}],\"paging\":{},\"linked\":{}}\n",
            "-------------------------\n"
          ]
        }
      ]
    },
    {
      "metadata": {
        "id": "iIoUjjX_xdvs"
      },
      "cell_type": "code",
      "source": [],
      "execution_count": null,
      "outputs": []
    }
  ],
  "metadata": {
    "kernelspec": {
      "name": "python3",
      "display_name": "Python 3.7",
      "language": "python"
    },
    "language_info": {
      "name": "python",
      "version": "3.7.9",
      "mimetype": "text/x-python",
      "codemirror_mode": {
        "name": "ipython",
        "version": 3
      },
      "pygments_lexer": "ipython3",
      "nbconvert_exporter": "python",
      "file_extension": ".py"
    },
    "colab": {
      "provenance": []
    }
  },
  "nbformat": 4,
  "nbformat_minor": 0
}