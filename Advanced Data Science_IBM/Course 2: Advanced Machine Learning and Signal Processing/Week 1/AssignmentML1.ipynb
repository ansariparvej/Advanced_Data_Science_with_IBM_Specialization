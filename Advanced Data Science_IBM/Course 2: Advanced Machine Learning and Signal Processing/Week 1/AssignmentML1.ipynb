{
  "cells": [
    {
      "cell_type": "markdown",
      "metadata": {
        "id": "Six9qBrVjQKJ"
      },
      "source": [
        "This is the first assignment for the Coursera course \"Advanced Machine Learning and Signal Processing\"\n",
        "\n",
        "Just execute all cells one after the other and you are done - just note that in the last one you have to update your email address (the one you've used for coursera) and obtain a submission token, you get this from the programming assignment directly on coursera."
      ]
    },
    {
      "cell_type": "markdown",
      "metadata": {
        "id": "Ln1qqMXtjQKP"
      },
      "source": [
        "This notebook is designed to run in a IBM Watson Studio default runtime (NOT the Watson Studio Apache Spark Runtime as the default runtime with 1 vCPU is free of charge). Therefore, we install Apache Spark in local mode for test purposes only. Please don't use it in production.\n",
        "\n",
        "In case you are facing issues, please read the following two documents first:\n",
        "\n",
        "https://github.com/IBM/skillsnetwork/wiki/Environment-Setup\n",
        "\n",
        "https://github.com/IBM/skillsnetwork/wiki/FAQ\n",
        "\n",
        "Then, please feel free to ask:\n",
        "\n",
        "https://coursera.org/learn/machine-learning-big-data-apache-spark/discussions/all\n",
        "\n",
        "Please make sure to follow the guidelines before asking a question:\n",
        "\n",
        "https://github.com/IBM/skillsnetwork/wiki/FAQ#im-feeling-lost-and-confused-please-help-me\n",
        "\n",
        "\n",
        "If running outside Watson Studio, this should work as well. In case you are running in an Apache Spark context outside Watson Studio, please remove the Apache Spark setup in the first notebook cells."
      ]
    },
    {
      "cell_type": "code",
      "execution_count": 8,
      "metadata": {
        "id": "IYGw-dt8jQKS"
      },
      "outputs": [],
      "source": [
        "from IPython.display import Markdown, display\n",
        "def printmd(string):\n",
        "    display(Markdown('# <span style=\"color:red\">'+string+'</span>'))\n",
        "\n",
        "\n",
        "if ('sc' in locals() or 'sc' in globals()):\n",
        "    printmd('<<<<<!!!!! It seems that you are running in a IBM Watson Studio Apache Spark Notebook. Please run it in an IBM Watson Studio Default Runtime (without Apache Spark) !!!!!>>>>>')\n"
      ]
    },
    {
      "cell_type": "code",
      "execution_count": 9,
      "metadata": {
        "colab": {
          "base_uri": "https://localhost:8080/",
          "height": 506
        },
        "id": "tZgZqJO4jQKZ",
        "outputId": "77b17fed-506a-4597-868d-e7725d6d2c65"
      },
      "outputs": [
        {
          "output_type": "stream",
          "name": "stdout",
          "text": [
            "Collecting pyspark==3.4.1\n",
            "  Downloading pyspark-3.4.1.tar.gz (310.8 MB)\n",
            "\u001b[2K     \u001b[90m━━━━━━━━━━━━━━━━━━━━━━━━━━━━━━━━━━━━━━━\u001b[0m \u001b[32m310.8/310.8 MB\u001b[0m \u001b[31m2.7 MB/s\u001b[0m eta \u001b[36m0:00:00\u001b[0m\n",
            "\u001b[?25h  Preparing metadata (setup.py) ... \u001b[?25l\u001b[?25hdone\n",
            "Collecting py4j==0.10.9.7 (from pyspark==3.4.1)\n",
            "  Downloading py4j-0.10.9.7-py2.py3-none-any.whl (200 kB)\n",
            "\u001b[2K     \u001b[90m━━━━━━━━━━━━━━━━━━━━━━━━━━━━━━━━━━━━━━\u001b[0m \u001b[32m200.5/200.5 kB\u001b[0m \u001b[31m20.6 MB/s\u001b[0m eta \u001b[36m0:00:00\u001b[0m\n",
            "\u001b[?25hBuilding wheels for collected packages: pyspark\n",
            "  Building wheel for pyspark (setup.py) ... \u001b[?25l\u001b[?25hdone\n",
            "  Created wheel for pyspark: filename=pyspark-3.4.1-py2.py3-none-any.whl size=311285398 sha256=bfbf5379d40b2ad1df55ec33b23bef019289f628160743c6fd6ca7406aef4152\n",
            "  Stored in directory: /root/.cache/pip/wheels/0d/77/a3/ff2f74cc9ab41f8f594dabf0579c2a7c6de920d584206e0834\n",
            "Successfully built pyspark\n",
            "Installing collected packages: py4j, pyspark\n",
            "  Attempting uninstall: py4j\n",
            "    Found existing installation: py4j 0.10.7\n",
            "    Uninstalling py4j-0.10.7:\n",
            "      Successfully uninstalled py4j-0.10.7\n",
            "  Attempting uninstall: pyspark\n",
            "    Found existing installation: pyspark 2.4.5\n",
            "    Uninstalling pyspark-2.4.5:\n",
            "      Successfully uninstalled pyspark-2.4.5\n",
            "Successfully installed py4j-0.10.9.7 pyspark-3.4.1\n"
          ]
        },
        {
          "output_type": "display_data",
          "data": {
            "application/vnd.colab-display-data+json": {
              "pip_warning": {
                "packages": [
                  "py4j"
                ]
              }
            }
          },
          "metadata": {}
        }
      ],
      "source": [
        "!pip install pyspark==3.4.1"
      ]
    },
    {
      "cell_type": "code",
      "execution_count": 10,
      "metadata": {
        "id": "Fv8nMQw9jQKb"
      },
      "outputs": [],
      "source": [
        "try:\n",
        "    from pyspark import SparkContext,SparkConf\n",
        "    from pyspark.sql import SparkSession\n",
        "except ImportError as e:\n",
        "    printmd('<<<<<!!!!! Please restart your kernel after installing Apache Spark !!!!!>>>>>')"
      ]
    },
    {
      "cell_type": "code",
      "execution_count": 11,
      "metadata": {
        "id": "U5J-z1o7jQKc"
      },
      "outputs": [],
      "source": [
        "sc = SparkContext.getOrCreate(SparkConf().setMaster(\"local[*]\"))\n",
        "\n",
        "spark = SparkSession \\\n",
        "    .builder \\\n",
        "    .getOrCreate()"
      ]
    },
    {
      "cell_type": "code",
      "execution_count": 12,
      "metadata": {
        "id": "1c04rCpFjQKe",
        "colab": {
          "base_uri": "https://localhost:8080/"
        },
        "outputId": "bfc97b00-356a-47d3-d981-1985890284b6"
      },
      "outputs": [
        {
          "output_type": "stream",
          "name": "stdout",
          "text": [
            "--2023-07-25 19:58:49--  https://github.com/IBM/coursera/raw/master/coursera_ml/a2.parquet\n",
            "Resolving github.com (github.com)... 140.82.113.3\n",
            "Connecting to github.com (github.com)|140.82.113.3|:443... connected.\n",
            "HTTP request sent, awaiting response... 301 Moved Permanently\n",
            "Location: https://github.com/claimed-framework/component-library/raw/master/coursera_ml/a2.parquet [following]\n",
            "--2023-07-25 19:58:49--  https://github.com/claimed-framework/component-library/raw/master/coursera_ml/a2.parquet\n",
            "Reusing existing connection to github.com:443.\n",
            "HTTP request sent, awaiting response... 302 Found\n",
            "Location: https://raw.githubusercontent.com/claimed-framework/component-library/master/coursera_ml/a2.parquet [following]\n",
            "--2023-07-25 19:58:49--  https://raw.githubusercontent.com/claimed-framework/component-library/master/coursera_ml/a2.parquet\n",
            "Resolving raw.githubusercontent.com (raw.githubusercontent.com)... 185.199.108.133, 185.199.109.133, 185.199.110.133, ...\n",
            "Connecting to raw.githubusercontent.com (raw.githubusercontent.com)|185.199.108.133|:443... connected.\n",
            "HTTP request sent, awaiting response... 200 OK\n",
            "Length: 59032 (58K) [application/octet-stream]\n",
            "Saving to: ‘a2.parquet’\n",
            "\n",
            "a2.parquet          100%[===================>]  57.65K  --.-KB/s    in 0.001s  \n",
            "\n",
            "2023-07-25 19:58:49 (56.8 MB/s) - ‘a2.parquet’ saved [59032/59032]\n",
            "\n"
          ]
        }
      ],
      "source": [
        "!wget https://github.com/IBM/coursera/raw/master/coursera_ml/a2.parquet"
      ]
    },
    {
      "cell_type": "code",
      "execution_count": 13,
      "metadata": {
        "id": "yhHFf7YgjQKg",
        "colab": {
          "base_uri": "https://localhost:8080/"
        },
        "outputId": "6fec7ee2-8f60-41e5-bc47-009f9e440f46"
      },
      "outputs": [
        {
          "output_type": "stream",
          "name": "stdout",
          "text": [
            "+-----+-----------+-------------------+-------------------+-------------------+\n",
            "|CLASS|   SENSORID|                  X|                  Y|                  Z|\n",
            "+-----+-----------+-------------------+-------------------+-------------------+\n",
            "|    0|         26| 380.66434005495194| -139.3470983812975|-247.93697521077704|\n",
            "|    0|         29| 104.74324299209692| -32.27421440203938|-25.105013725863852|\n",
            "|    0| 8589934658| 118.11469236129976| 45.916682927433534| -87.97203782706572|\n",
            "|    0|34359738398| 246.55394030642543|-0.6122810693132044|-398.18662513951506|\n",
            "|    0|17179869241|-190.32584900181487|  234.7849657520335|-206.34483804019288|\n",
            "|    0|25769803830| 178.62396382387422| -47.07529438881511|  84.38310769821979|\n",
            "|    0|25769803831|  85.03128805189493|-4.3024316644854546|-1.1841857567516714|\n",
            "|    0|34359738411| 26.786262674736566| -46.33193951911338| 20.880756008396055|\n",
            "|    0| 8589934592|-16.203752396859194| 51.080957032176954| -96.80526656416971|\n",
            "|    0|25769803852|   47.2048142440404|  -78.2950899652916| 181.99604091494786|\n",
            "|    0|34359738369| 15.608872398939273| -79.90322809181754|  69.62150711098005|\n",
            "|    0|         19|-4.8281721129789315| -67.38050508399905| 221.24876396496404|\n",
            "|    0|         54| -98.40725712852762|-19.989364074314732|  -302.695196085276|\n",
            "|    0|17179869313| 22.835845394816594|   17.1633660118843| 32.877914832011385|\n",
            "|    0|34359738454|  84.20178070080324| -32.81572075916947| -48.63517643958031|\n",
            "|    0|          0|  56.54732521345129| -7.980106018032676|  95.05162719436447|\n",
            "|    0|17179869201|  -57.6008655247749|  5.135393798773895| 236.99158698947267|\n",
            "|    0|17179869308| -65.59264738389012| -48.92660057215126| -61.58970715383383|\n",
            "|    0|25769803790|  34.82337351291005|  9.483542084393937|  197.6066372962772|\n",
            "|    0|25769803825|  39.80573823439121|-0.7955236412785212| -79.66652640650325|\n",
            "+-----+-----------+-------------------+-------------------+-------------------+\n",
            "only showing top 20 rows\n",
            "\n"
          ]
        }
      ],
      "source": [
        "df=spark.read.load('a2.parquet')\n",
        "\n",
        "df.createOrReplaceTempView(\"df\")\n",
        "spark.sql(\"SELECT * from df\").show()\n"
      ]
    },
    {
      "cell_type": "code",
      "execution_count": 14,
      "metadata": {
        "id": "OYjhE1xHjQKh"
      },
      "outputs": [],
      "source": [
        "!rm -Rf a2_m1.json"
      ]
    },
    {
      "cell_type": "code",
      "execution_count": 15,
      "metadata": {
        "id": "G3x4wRnUjQKj"
      },
      "outputs": [],
      "source": [
        "df = df.repartition(1)\n",
        "df.write.json('a2_m1.json')"
      ]
    },
    {
      "cell_type": "code",
      "execution_count": 16,
      "metadata": {
        "id": "LWjY9pvAjQKk",
        "colab": {
          "base_uri": "https://localhost:8080/"
        },
        "outputId": "a27533bc-15cb-4534-dc6e-340acab227ed"
      },
      "outputs": [
        {
          "output_type": "stream",
          "name": "stdout",
          "text": [
            "--2023-07-25 19:59:25--  https://raw.githubusercontent.com/IBM/coursera/master/rklib.py\n",
            "Resolving raw.githubusercontent.com (raw.githubusercontent.com)... 185.199.108.133, 185.199.109.133, 185.199.110.133, ...\n",
            "Connecting to raw.githubusercontent.com (raw.githubusercontent.com)|185.199.108.133|:443... connected.\n",
            "HTTP request sent, awaiting response... 200 OK\n",
            "Length: 2540 (2.5K) [text/plain]\n",
            "Saving to: ‘rklib.py’\n",
            "\n",
            "\rrklib.py              0%[                    ]       0  --.-KB/s               \rrklib.py            100%[===================>]   2.48K  --.-KB/s    in 0s      \n",
            "\n",
            "2023-07-25 19:59:25 (51.8 MB/s) - ‘rklib.py’ saved [2540/2540]\n",
            "\n"
          ]
        }
      ],
      "source": [
        "!rm -f rklib.py\n",
        "!wget https://raw.githubusercontent.com/IBM/coursera/master/rklib.py"
      ]
    },
    {
      "cell_type": "code",
      "execution_count": 17,
      "metadata": {
        "id": "RWo0qMSKjQKl"
      },
      "outputs": [],
      "source": [
        "import zipfile\n",
        "import os\n",
        "\n",
        "def zipdir(path, ziph):\n",
        "    for root, dirs, files in os.walk(path):\n",
        "        for file in files:\n",
        "            ziph.write(os.path.join(root, file))\n",
        "\n",
        "zipf = zipfile.ZipFile('a2_m1.json.zip', 'w', zipfile.ZIP_DEFLATED)\n",
        "zipdir('a2_m1.json', zipf)\n",
        "zipf.close()"
      ]
    },
    {
      "cell_type": "code",
      "execution_count": 18,
      "metadata": {
        "id": "PjeM4Gk9jQKl"
      },
      "outputs": [],
      "source": [
        "!base64 a2_m1.json.zip > a2_m1.json.zip.base64"
      ]
    },
    {
      "cell_type": "code",
      "source": [
        "!rm -f rklib.py\n",
        "!wget https://raw.githubusercontent.com/IBM/coursera/master/rklib.py"
      ],
      "metadata": {
        "colab": {
          "base_uri": "https://localhost:8080/"
        },
        "id": "JmmcabC6pEft",
        "outputId": "2f4b0c3d-2fb5-445e-aafe-f04b0306dc8c"
      },
      "execution_count": 20,
      "outputs": [
        {
          "output_type": "stream",
          "name": "stdout",
          "text": [
            "--2023-07-25 20:01:21--  https://raw.githubusercontent.com/IBM/coursera/master/rklib.py\n",
            "Resolving raw.githubusercontent.com (raw.githubusercontent.com)... 185.199.108.133, 185.199.109.133, 185.199.110.133, ...\n",
            "Connecting to raw.githubusercontent.com (raw.githubusercontent.com)|185.199.108.133|:443... connected.\n",
            "HTTP request sent, awaiting response... 200 OK\n",
            "Length: 2540 (2.5K) [text/plain]\n",
            "Saving to: ‘rklib.py’\n",
            "\n",
            "\rrklib.py              0%[                    ]       0  --.-KB/s               \rrklib.py            100%[===================>]   2.48K  --.-KB/s    in 0s      \n",
            "\n",
            "2023-07-25 20:01:21 (37.6 MB/s) - ‘rklib.py’ saved [2540/2540]\n",
            "\n"
          ]
        }
      ]
    },
    {
      "cell_type": "code",
      "execution_count": 21,
      "metadata": {
        "id": "j6Hp9e0_jQKn",
        "colab": {
          "base_uri": "https://localhost:8080/"
        },
        "outputId": "9b7c768f-514c-4170-b047-2746b5ff5a4f"
      },
      "outputs": [
        {
          "output_type": "stream",
          "name": "stdout",
          "text": [
            "Submission successful, please check on the coursera grader page for the status\n",
            "-------------------------\n",
            "{\"elements\":[{\"itemId\":\"O8C69\",\"id\":\"f_F-qCtuEei_fRLwaVDk3g~O8C69~Oj3jnysmEe6AghJMbC-RJw\",\"courseId\":\"f_F-qCtuEei_fRLwaVDk3g\"}],\"paging\":{},\"linked\":{}}\n",
            "-------------------------\n"
          ]
        }
      ],
      "source": [
        "from rklib import submit\n",
        "key = \"1injH2F0EeiLlRJ3eJKoXA\"\n",
        "part = \"wNLDt\"\n",
        "email = \"ansarip82@gmail.com\"\n",
        "token = \"HpUqkW4BsvjwoZKK\"\n",
        "with open('a2_m1.json.zip.base64', 'r') as myfile:\n",
        "    data=myfile.read()\n",
        "submit(email, token, key, part, [part], data)"
      ]
    },
    {
      "cell_type": "code",
      "execution_count": null,
      "metadata": {
        "id": "KJi7LhAYjQKo"
      },
      "outputs": [],
      "source": []
    }
  ],
  "metadata": {
    "kernelspec": {
      "display_name": "Python 3 (ipykernel)",
      "language": "python",
      "name": "python3"
    },
    "language_info": {
      "codemirror_mode": {
        "name": "ipython",
        "version": 3
      },
      "file_extension": ".py",
      "mimetype": "text/x-python",
      "name": "python",
      "nbconvert_exporter": "python",
      "pygments_lexer": "ipython3",
      "version": "3.9.16"
    },
    "colab": {
      "provenance": []
    }
  },
  "nbformat": 4,
  "nbformat_minor": 0
}