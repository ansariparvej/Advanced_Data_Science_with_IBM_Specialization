{
 "cells": [
  {
   "metadata": {},
   "cell_type": "markdown",
   "source": [
    "# Libs"
   ]
  },
  {
   "metadata": {},
   "cell_type": "code",
   "source": [
    "from ibm_botocore.client import Config\n",
    "import ibm_boto3"
   ],
   "execution_count": 1,
   "outputs": [
    {
     "output_type": "stream",
     "text": "Waiting for a Spark session to start...\nSpark Initialization Done! ApplicationId = app-20200209112829-0001\nKERNEL_ID = ae790a45-8e56-41eb-9ce9-498c25db1987\n",
     "name": "stdout"
    }
   ]
  },
  {
   "metadata": {},
   "cell_type": "code",
   "source": [
    "SEED = 42\n",
    "\n",
    "# Numpy\n",
    "import numpy as np\n",
    "np.random.seed(SEED)\n",
    "from numpy import loadtxt\n",
    "\n",
    "# Pandas\n",
    "import pandas as pd\n",
    "\n",
    "# Sklearn\n",
    "\n",
    "# Preprocessing\n",
    "from sklearn.preprocessing import StandardScaler, LabelEncoder, OneHotEncoder\n",
    "from sklearn.feature_extraction import DictVectorizer as DV\n",
    "from sklearn.model_selection import cross_validate, learning_curve, train_test_split\n",
    "from sklearn.model_selection import cross_val_score\n",
    "\n",
    "# Metrics and tuning\n",
    "from sklearn.metrics import roc_auc_score, accuracy_score, f1_score, confusion_matrix, classification_report\n",
    "from sklearn.feature_extraction import DictVectorizer as DV\n",
    "from sklearn.model_selection import GridSearchCV, RandomizedSearchCV, StratifiedKFold\n",
    "\n",
    "# Models\n",
    "from sklearn.ensemble import RandomForestClassifier\n",
    "from sklearn.neighbors import KNeighborsClassifier\n",
    "from sklearn.linear_model import LogisticRegression as LR\n",
    "from sklearn.naive_bayes import BernoulliNB, MultinomialNB, GaussianNB\n",
    "from sklearn.neural_network import MLPClassifier\n",
    "from sklearn import svm\n",
    "from sklearn.metrics import roc_auc_score\n",
    "\n",
    "from keras.wrappers.scikit_learn import KerasClassifier\n",
    "from keras.models import Sequential\n",
    "from keras.layers import Dense\n",
    "\n",
    "# PySpark\n",
    "from pyspark.ml.feature import VectorAssembler\n",
    "from pyspark.sql.functions import monotonically_increasing_id \n",
    "from pyspark.sql.types import IntegerType\n",
    "from pyspark.sql.functions import lit\n",
    "from pyspark.ml.classification import LogisticRegression\n",
    "\n",
    "from pyspark.ml.evaluation import BinaryClassificationEvaluator\n",
    "from pyspark.ml.classification import MultilayerPerceptronClassifier\n",
    "from pyspark.ml.evaluation import MulticlassClassificationEvaluator\n",
    "\n",
    "from pyspark.ml.feature import ChiSqSelector\n",
    "from pyspark.ml.tuning import ParamGridBuilder, CrossValidator\n",
    "\n",
    "# Stats\n",
    "from scipy import stats\n",
    "\n",
    "# Vizualization\n",
    "import seaborn as sns\n",
    "sns.set(style=\"whitegrid\")\n",
    "\n",
    "%matplotlib inline\n",
    "import matplotlib as mpl\n",
    "import matplotlib.pyplot as plt\n",
    "mpl.rc('axes', labelsize=14)\n",
    "mpl.rc('xtick', labelsize=12)\n",
    "mpl.rc('ytick', labelsize=12)"
   ],
   "execution_count": 11,
   "outputs": []
  },
  {
   "metadata": {},
   "cell_type": "markdown",
   "source": [
    "# Data"
   ]
  },
  {
   "metadata": {},
   "cell_type": "code",
   "source": [
    "credentials = {\n",
    "    'IAM_SERVICE_ID': '',\n",
    "    'IBM_API_KEY_ID': '',\n",
    "    'ENDPOINT': '',\n",
    "    'IBM_AUTH_ENDPOINT': '',\n",
    "    'BUCKET': '',\n",
    "}\n",
    "\n",
    "cos = ibm_boto3.client(service_name='s3',\n",
    "    ibm_api_key_id=credentials['IBM_API_KEY_ID'],\n",
    "    ibm_service_instance_id=credentials['IAM_SERVICE_ID'],\n",
    "    ibm_auth_endpoint=credentials['IBM_AUTH_ENDPOINT'],\n",
    "    config=Config(signature_version='oauth'),\n",
    "    endpoint_url=credentials['ENDPOINT'])\n",
    "\n",
    "cos.download_file(Bucket=credentials['BUCKET'], Key='train', Filename='train.csv')\n",
    "cos.download_file(Bucket=credentials['BUCKET'], Key='test', Filename='test.csv')\n",
    "cos.download_file(Bucket=credentials['BUCKET'], Key='y_train', Filename='y_train.csv')\n",
    "cos.download_file(Bucket=credentials['BUCKET'], Key='y_test', Filename='y_test.csv')\n",
    "\n",
    "from numpy import loadtxt\n",
    "\n",
    "train_data = loadtxt('train.csv', delimiter=',')\n",
    "test_data = loadtxt('test.csv', delimiter=',')\n",
    "y_train = loadtxt('y_train.csv', delimiter=',')\n",
    "y_test = loadtxt('y_test.csv', delimiter=',')"
   ],
   "execution_count": 38,
   "outputs": []
  },
  {
   "metadata": {},
   "cell_type": "markdown",
   "source": "# Prepare Spark DataFrame"
  },
  {
   "metadata": {},
   "cell_type": "code",
   "source": "rdd1 = sc.parallelize(train_data)\nrdd2 = rdd1.map(lambda x: [float(i) for i in x])\ntrain_df = rdd2.toDF()\n\nvectorAssembler = VectorAssembler(inputCols=[f'_{i}' for i in range(1, train_data.shape[1]+1)], outputCol=\"features\")\ntrain_df = vectorAssembler.transform(train_df)\n\ntrain_df = train_df.withColumn(\"id\", monotonically_increasing_id())\n\nb = [int(i) for i in list(y_train)]\n\ntrain_labels = spark.createDataFrame(b, IntegerType())\ntrain_labels = train_labels.withColumn(\"id\", monotonically_increasing_id())\ntrain_labels = train_labels.selectExpr(\"id as id\", \"value as label\")\n\ntrain = train_df.join(train_labels, \"id\")",
   "execution_count": 39,
   "outputs": []
  },
  {
   "metadata": {},
   "cell_type": "code",
   "source": "rdd1 = sc.parallelize(test_data)\nrdd2 = rdd1.map(lambda x: [float(i) for i in x])\ntest_df = rdd2.toDF()\n\nvectorAssembler = VectorAssembler(inputCols=[f'_{i}' for i in range(1, test_data.shape[1]+1)], outputCol=\"features\")\ntest_df = vectorAssembler.transform(test_df)\n\ntest_df = test_df.withColumn(\"id\", monotonically_increasing_id())\n\nb = [int(i) for i in list(y_test)]\n\ntest_labels = spark.createDataFrame(b, IntegerType())\ntest_labels = test_labels.withColumn(\"id\", monotonically_increasing_id())\ntest_labels = test_labels.selectExpr(\"id as id\", \"value as label\")\n\ntest = test_df.join(test_labels, \"id\")",
   "execution_count": 40,
   "outputs": []
  },
  {
   "metadata": {},
   "cell_type": "markdown",
   "source": "# Choose, justify and apply a model performance indicator\n\nWe will use area under the ROC curve. AUROC of a test can be used as a criterion to measure the test's discriminative ability, i.e. how good is the test in a given clinical situation. It tells how much model is capable of distinguishing between classes. \n\nWe dont want to predict 'Death in 5 year' status with error for the patient. We can afford to make a mistake and telling the patient, that he will be alive, but we dont want to make false predictions about the death status. So we want to change treshold to minimize false negative mistakes - when the status should be living, but we predict \"Death\".\n\nWe want to maximize recall (Type II error minimization) param and maximize AUROC."
  },
  {
   "metadata": {},
   "cell_type": "markdown",
   "source": "# Implement your algorithm"
  },
  {
   "metadata": {},
   "cell_type": "markdown",
   "source": "## Non-deep learning algorithm"
  },
  {
   "metadata": {},
   "cell_type": "markdown",
   "source": "## Logistic Regression"
  },
  {
   "metadata": {},
   "cell_type": "code",
   "source": "def plot_scores(optimizer):\n    param_C = np.array(optimizer.cv_results_['param_C'])\n    mean_cv = optimizer.cv_results_['mean_test_score']\n    std_cv = optimizer.cv_results_['std_test_score']\n    \n    temp_1 = mean_cv - std_cv\n    temp_2 = mean_cv + std_cv                                             \n    \n    plt.semilogx(param_C, mean_cv)\n    plt.fill_between(np.array(param_C, dtype=float), np.array(temp_1, dtype=float), np.array(temp_2, dtype=float), alpha=0.3)\n    plt.show()",
   "execution_count": 6,
   "outputs": []
  },
  {
   "metadata": {},
   "cell_type": "code",
   "source": "param_grid = {'C': [0.001, 0.001, 0.1, 0.5, 1, 5, 10]}\ncv = 5\n\nestimator = LR(solver='liblinear')\n\noptimizer_zeros = GridSearchCV(estimator, param_grid, cv=cv, scoring='recall')\noptimizer_zeros.fit(train_data, y_train)",
   "execution_count": 7,
   "outputs": [
    {
     "output_type": "execute_result",
     "execution_count": 7,
     "data": {
      "text/plain": "GridSearchCV(cv=5, error_score='raise-deprecating',\n       estimator=LogisticRegression(C=1.0, class_weight=None, dual=False, fit_intercept=True,\n          intercept_scaling=1, max_iter=100, multi_class='warn',\n          n_jobs=None, penalty='l2', random_state=None, solver='liblinear',\n          tol=0.0001, verbose=0, warm_start=False),\n       fit_params=None, iid='warn', n_jobs=None,\n       param_grid={'C': [0.001, 0.001, 0.1, 0.5, 1, 5, 10]},\n       pre_dispatch='2*n_jobs', refit=True, return_train_score='warn',\n       scoring='recall', verbose=0)"
     },
     "metadata": {}
    }
   ]
  },
  {
   "metadata": {},
   "cell_type": "code",
   "source": "plot_scores(optimizer_zeros)",
   "execution_count": 8,
   "outputs": [
    {
     "output_type": "display_data",
     "data": {
      "image/png": "[encoded data removed]",
      "text/plain": "<Figure size 432x288 with 1 Axes>"
     },
     "metadata": {
      "needs_background": "light"
     }
    }
   ]
  },
  {
   "metadata": {},
   "cell_type": "code",
   "source": "optimizer_zeros.best_estimator_",
   "execution_count": 9,
   "outputs": [
    {
     "output_type": "execute_result",
     "execution_count": 9,
     "data": {
      "text/plain": "LogisticRegression(C=10, class_weight=None, dual=False, fit_intercept=True,\n          intercept_scaling=1, max_iter=100, multi_class='warn',\n          n_jobs=None, penalty='l2', random_state=None, solver='liblinear',\n          tol=0.0001, verbose=0, warm_start=False)"
     },
     "metadata": {}
    }
   ]
  },
  {
   "metadata": {},
   "cell_type": "code",
   "source": "roc_auc_score_zeros = roc_auc_score(y_test, optimizer_zeros.best_estimator_.predict_proba(test_data)[:, 1])",
   "execution_count": 12,
   "outputs": []
  },
  {
   "metadata": {},
   "cell_type": "code",
   "source": "roc_auc_score_zeros",
   "execution_count": 13,
   "outputs": [
    {
     "output_type": "execute_result",
     "execution_count": 13,
     "data": {
      "text/plain": "0.6894016644189337"
     },
     "metadata": {}
    }
   ]
  },
  {
   "metadata": {},
   "cell_type": "code",
   "source": "optimizer_zeros.best_estimator_",
   "execution_count": 14,
   "outputs": [
    {
     "output_type": "execute_result",
     "execution_count": 14,
     "data": {
      "text/plain": "LogisticRegression(C=10, class_weight=None, dual=False, fit_intercept=True,\n          intercept_scaling=1, max_iter=100, multi_class='warn',\n          n_jobs=None, penalty='l2', random_state=None, solver='liblinear',\n          tol=0.0001, verbose=0, warm_start=False)"
     },
     "metadata": {}
    }
   ]
  },
  {
   "metadata": {},
   "cell_type": "markdown",
   "source": "# Logistic Regression - Spark"
  },
  {
   "metadata": {},
   "cell_type": "code",
   "source": "lr = LogisticRegression(featuresCol = 'features', labelCol = 'label', maxIter=100, regParam=0.1, elasticNetParam=0.8)\n\n# Fit the model\nlrModel = lr.fit(train)\n\n# Print the coefficients and intercept for logistic regression\nprint(\"Coefficients: \" + str(lrModel.coefficients))\nprint(\"Intercept: \" + str(lrModel.intercept))",
   "execution_count": 15,
   "outputs": [
    {
     "output_type": "stream",
     "text": "Coefficients: (49,[0,1,2],[-0.29470054869103085,-0.06101756192031752,-0.05263230887826709])\nIntercept: -0.4127639032530756\n",
     "name": "stdout"
    }
   ]
  },
  {
   "metadata": {},
   "cell_type": "code",
   "source": "trainingSummary = lrModel.summary\n\n# Obtain the objective per iteration\nobjectiveHistory = trainingSummary.objectiveHistory\nprint(\"objectiveHistory:\")\nfor objective in objectiveHistory:\n    print(objective)\n\n# Obtain the receiver-operating characteristic as a dataframe and areaUnderROC.\ntrainingSummary.roc.show()\nprint(\"areaUnderROC: \" + str(trainingSummary.areaUnderROC))\n\n# Set the model threshold to maximize F-Measure\nfMeasure = trainingSummary.fMeasureByThreshold\n\nmaxFMeasure = fMeasure.groupBy().max('F-Measure').select('max(F-Measure)').head()\nbestThreshold = fMeasure.where(fMeasure['F-Measure'] == maxFMeasure['max(F-Measure)']) \\\n    .select('threshold').head()['threshold']\nlrModel._java_obj.setThreshold(bestThreshold)",
   "execution_count": 16,
   "outputs": [
    {
     "output_type": "stream",
     "text": "objectiveHistory:\n0.6732188733949639\n0.670962758941399\n0.6620747268211165\n0.661034623960776\n0.6607940494940365\n0.660792033392905\n0.6607885282462737\n0.6607882254674488\n0.6607881985236744\n0.6607881794632285\n0.6607881490729325\n0.6607880988911647\n0.6607880987850395\n0.6607880984355837\n0.6607880983714052\n+--------------------+--------------------+\n|                 FPR|                 TPR|\n+--------------------+--------------------+\n|                 0.0|                 0.0|\n|0.001424501424501...|0.008528784648187633|\n|0.002849002849002849|0.019189765458422176|\n|0.002849002849002849|0.031982942430703626|\n|0.007122507122507123| 0.03837953091684435|\n|0.008547008547008548| 0.04904051172707889|\n|0.011396011396011397|0.057569296375266525|\n|0.014245014245014245| 0.06396588486140725|\n|0.018518518518518517| 0.07036247334754797|\n|0.022792022792022793|  0.0767590618336887|\n| 0.02564102564102564| 0.08528784648187633|\n| 0.02564102564102564| 0.09808102345415778|\n|0.029914529914529916|  0.1044776119402985|\n| 0.03418803418803419| 0.10874200426439233|\n|0.039886039886039885| 0.11300639658848614|\n| 0.04415954415954416| 0.11940298507462686|\n| 0.04843304843304843|  0.1257995735607676|\n| 0.05128205128205128| 0.13432835820895522|\n| 0.05555555555555555| 0.14072494669509594|\n| 0.06125356125356125| 0.14498933901918976|\n+--------------------+--------------------+\nonly showing top 20 rows\n\nareaUnderROC: 0.7250241466659378\n",
     "name": "stdout"
    },
    {
     "output_type": "execute_result",
     "execution_count": 16,
     "data": {
      "text/plain": "JavaObject id=o308"
     },
     "metadata": {}
    }
   ]
  },
  {
   "metadata": {},
   "cell_type": "code",
   "source": "predictions = lrModel.transform(test)",
   "execution_count": 17,
   "outputs": []
  },
  {
   "metadata": {},
   "cell_type": "code",
   "source": "evaluator=BinaryClassificationEvaluator(rawPredictionCol=\"rawPrediction\", labelCol=\"label\")\n\npredict_test = lrModel.transform(test)\npredict_train = lrModel.transform(train)\n\npredict_test.select(\"label\",\"rawPrediction\",\"prediction\",\"probability\").show(5)\n\nprint(\"The area under ROC for train set is {}\".format(evaluator.evaluate(predict_train)))\nprint(\"The area under ROC for test set is {}\".format(evaluator.evaluate(predict_test)))",
   "execution_count": 18,
   "outputs": [
    {
     "output_type": "stream",
     "text": "+-----+--------------------+----------+--------------------+\n|label|       rawPrediction|prediction|         probability|\n+-----+--------------------+----------+--------------------+\n|    1|[0.46680720585930...|       0.0|[0.61462778698305...|\n|    0|[-0.0820794502592...|       1.0|[0.47949164993391...|\n|    1|[0.04157605575882...|       0.0|[0.51039251696811...|\n|    0|[0.54043135554880...|       0.0|[0.63191275632390...|\n|    0|[0.29743659938446...|       0.0|[0.57381575296537...|\n+-----+--------------------+----------+--------------------+\nonly showing top 5 rows\n\nThe area under ROC for train set is 0.725007441425352\nThe area under ROC for test set is 0.6858162560442098\n",
     "name": "stdout"
    }
   ]
  },
  {
   "metadata": {},
   "cell_type": "code",
   "source": "roc = trainingSummary.roc.toPandas()\nplt.plot(roc['FPR'],roc['TPR'])\nplt.ylabel('False Positive Rate')\nplt.xlabel('True Positive Rate')\nplt.title('ROC Curve')\nplt.show()\nprint('Training set areaUnderROC: ' + str(trainingSummary.areaUnderROC))",
   "execution_count": 19,
   "outputs": [
    {
     "output_type": "display_data",
     "data": {
      "image/png": "[encoded data removed]",
      "text/plain": "<Figure size 432x288 with 1 Axes>"
     },
     "metadata": {
      "needs_background": "light"
     }
    },
    {
     "output_type": "stream",
     "text": "Training set areaUnderROC: 0.7250241466659378\n",
     "name": "stdout"
    }
   ]
  },
  {
   "metadata": {},
   "cell_type": "code",
   "source": "pr = trainingSummary.pr.toPandas()\nplt.plot(pr['recall'],pr['precision'])\nplt.ylabel('Precision')\nplt.xlabel('Recall')\nplt.show()",
   "execution_count": 20,
   "outputs": [
    {
     "output_type": "display_data",
     "data": {
      "image/png": "[encoded data removed]",
      "text/plain": "<Figure size 432x288 with 1 Axes>"
     },
     "metadata": {
      "needs_background": "light"
     }
    }
   ]
  },
  {
   "metadata": {},
   "cell_type": "markdown",
   "source": "## Deep Learning Algorithm"
  },
  {
   "metadata": {},
   "cell_type": "code",
   "source": "# specify layers for the neural network:\n# input layer of size 4 (features), two intermediate of size 5 and 4\n# and output of size 3 (classes)\nlayers = [49, 30, 10, 2]\n\n# create the trainer and set its parameters\ntrainer = MultilayerPerceptronClassifier(maxIter=100, layers=layers, blockSize=128, seed=1234)\n\n# train the model\nmodel = trainer.fit(train)\n\n# compute accuracy on the test set\nresult = model.transform(test)",
   "execution_count": 21,
   "outputs": []
  },
  {
   "metadata": {},
   "cell_type": "code",
   "source": "predictionAndLabels = result.select(\"prediction\", \"label\")\n\npredict_test = lrModel.transform(test)\npredict_train = lrModel.transform(train)\n\nevaluator = MulticlassClassificationEvaluator(labelCol=\"label\", predictionCol=\"prediction\", metricName=\"accuracy\")\n\ntest_accuracy = evaluator.evaluate(predict_test)\ntrain_accuracy = evaluator.evaluate(predict_train)\n\nprint(\"Test Acc = %g\" % (test_accuracy))\nprint(\"Train Acc = %g\" % (train_accuracy))",
   "execution_count": 22,
   "outputs": [
    {
     "output_type": "stream",
     "text": "Test Acc = 0.606362\nTrain Acc = 0.622545\n",
     "name": "stdout"
    }
   ]
  },
  {
   "metadata": {},
   "cell_type": "markdown",
   "source": "## Sequential NN"
  },
  {
   "metadata": {},
   "cell_type": "code",
   "source": "def create_baseline():\n    # create model\n    model = Sequential()\n    model.add(Dense(49, input_dim=49, activation='relu'))\n    model.add(Dense(1, activation='sigmoid'))\n\n    model.compile(loss='binary_crossentropy', optimizer='adam', metrics=['accuracy'])\n    return model\n\nestimator = KerasClassifier(build_fn=create_baseline, epochs=100, batch_size=5, verbose=0)\n\nkfold = StratifiedKFold(n_splits=10, shuffle=True)\n\nresults = cross_val_score(estimator, train_data, y_train, cv=kfold)\n\nprint(\"Baseline: %.2f%% (%.2f%%)\" % (results.mean()*100, results.std()*100))",
   "execution_count": 23,
   "outputs": [
    {
     "output_type": "stream",
     "text": "WARNING:tensorflow:From /opt/ibm/conda/miniconda3.6/lib/python3.6/site-packages/tensorflow/python/framework/op_def_library.py:263: colocate_with (from tensorflow.python.framework.ops) is deprecated and will be removed in a future version.\nInstructions for updating:\nColocations handled automatically by placer.\nWARNING:tensorflow:From /opt/ibm/conda/miniconda3.6/lib/python3.6/site-packages/tensorflow/python/ops/math_ops.py:3066: to_int32 (from tensorflow.python.ops.math_ops) is deprecated and will be removed in a future version.\nInstructions for updating:\nUse tf.cast instead.\n",
     "name": "stderr"
    },
    {
     "output_type": "stream",
     "text": "Baseline: 64.66% (3.16%)\n",
     "name": "stdout"
    }
   ]
  },
  {
   "metadata": {},
   "cell_type": "markdown",
   "source": "# Result"
  },
  {
   "metadata": {},
   "cell_type": "markdown",
   "source": "As we can see, Deep learning algorithms perform worse than classic Logistic Regression on this dataset. \n\nSo, I decided to proceed with Logistic Regression.\n\nP.S. Actually, I tried a LOT of other algorithms in my draft notebook: Random Forest, GB, Bayes, SVM, KNN e.t.c. \nLink: https://github.com/OzmundSedler/IBM-advanced-DS-coursera/blob/master/4%20Capstone%20/ML-project-draft.ipynb"
  },
  {
   "metadata": {},
   "cell_type": "markdown",
   "source": "# Apply at least one additional iteration in the process model involving at least the feature creation task\nRecord impact on model performance\n\n**Area under ROC for train/test set**\n\n1. **0.705/0.663** ------ **Initial model** (Without normalization), not exists in the notebooks, was declared in the draft - \n2. **0.725/0.686** ------ **Normalization** of num data was done in the previous notebook - \n3. **0.724/0.686** ------ **Feature selection** (moved from 49 features to 40)\n4. **0.775/0.692** ------ **Gridsearch** for the best LR params \n5. **0.754/0.740** ------ **Feature Imputation** "
  },
  {
   "metadata": {},
   "cell_type": "markdown",
   "source": "## Iteration 1 - feature selection with ChiSqSelector"
  },
  {
   "metadata": {},
   "cell_type": "code",
   "source": "number_of_top_features = [20, 30, 40, 45]\n\nfor number in number_of_top_features:\n    selector = ChiSqSelector(featuresCol='features', outputCol=f'SelectedFeatures_{number}', labelCol='label', numTopFeatures=number)\n    \n    train_selected = selector.fit(train).transform(train)\n    test_selected = selector.fit(test).transform(test)\n    \n    lr = LogisticRegression(featuresCol=f'SelectedFeatures_{number}', labelCol='label', maxIter=10, regParam=0.1, elasticNetParam=0.8)\n    lrModel = lr.fit(train_selected)\n\n    predict_train = lrModel.transform(train_selected)\n    predict_test = lrModel.transform(test_selected)\n    \n    print(f'Result for {number} features:')\n    \n    evaluator = BinaryClassificationEvaluator(rawPredictionCol=\"rawPrediction\", labelCol=\"label\")\n    print(\"The area under ROC for train set is {}\".format(evaluator.evaluate(predict_train)))\n    print(\"The area under ROC for test set is {}\".format(evaluator.evaluate(predict_test)))\n    \n    print('\\n')",
   "execution_count": 24,
   "outputs": [
    {
     "output_type": "stream",
     "text": "Result for 20 features:\nThe area under ROC for train set is 0.6880812664394755\nThe area under ROC for test set is 0.5775714614650834\n\n\nResult for 30 features:\nThe area under ROC for train set is 0.6882331322629837\nThe area under ROC for test set is 0.6590654912667347\n\n\nResult for 40 features:\nThe area under ROC for train set is 0.724870762184195\nThe area under ROC for test set is 0.6857504687345816\n\n\nResult for 45 features:\nThe area under ROC for train set is 0.7250135160582923\nThe area under ROC for test set is 0.6857998092168028\n\n\n",
     "name": "stdout"
    }
   ]
  },
  {
   "metadata": {},
   "cell_type": "markdown",
   "source": "40 features seem to describe the same information as 49, but the model executes faster, so let's move with them. "
  },
  {
   "metadata": {},
   "cell_type": "markdown",
   "source": "## Result"
  },
  {
   "metadata": {},
   "cell_type": "code",
   "source": "selector = ChiSqSelector(featuresCol='features', outputCol=f'SelectedFeatures_40', labelCol='label', numTopFeatures=40)\n    \ntrain_selected = selector.fit(train).transform(train)\ntest_selected = selector.fit(test).transform(test)",
   "execution_count": 41,
   "outputs": []
  },
  {
   "metadata": {},
   "cell_type": "markdown",
   "source": "## Iteration 2 - Gridsearch for the best params"
  },
  {
   "metadata": {},
   "cell_type": "code",
   "source": "paramGrid = ParamGridBuilder()\\\n    .addGrid(lr.elasticNetParam,[0.0, 0.5, 1.0])\\\n    .addGrid(lr.fitIntercept,[False, True])\\\n    .addGrid(lr.regParam,[0.01, 0.1, 0.5]) \\\n    .build()",
   "execution_count": 42,
   "outputs": []
  },
  {
   "metadata": {},
   "cell_type": "code",
   "source": "evaluator = BinaryClassificationEvaluator(rawPredictionCol=\"rawPrediction\", labelCol=\"label\")\n\nlr = LogisticRegression(labelCol=\"label\", featuresCol=\"SelectedFeatures_40\", maxIter=10)",
   "execution_count": 43,
   "outputs": []
  },
  {
   "metadata": {},
   "cell_type": "code",
   "source": "# Create 5-fold CrossValidator\ncv = CrossValidator(estimator=lr, estimatorParamMaps=paramGrid, evaluator=evaluator, numFolds=5)\n# Run cross validations\ncvModel = cv.fit(train_selected)\n\npredict_train = cvModel.transform(train_selected)\npredict_test = cvModel.transform(test_selected)\nprint(\"The area under ROC for train set after CV  is {}\".format(evaluator.evaluate(predict_train)))\nprint(\"The area under ROC for test set after CV  is {}\".format(evaluator.evaluate(predict_test)))",
   "execution_count": 44,
   "outputs": [
    {
     "output_type": "stream",
     "text": "The area under ROC for train set after CV  is 0.7753054021710739\nThe area under ROC for test set after CV  is 0.6864576823130819\n",
     "name": "stdout"
    }
   ]
  },
  {
   "metadata": {},
   "cell_type": "code",
   "source": "bestModel = cvModel.bestModel",
   "execution_count": 45,
   "outputs": []
  },
  {
   "metadata": {},
   "cell_type": "code",
   "source": "bestParams = bestModel.extractParamMap()",
   "execution_count": 46,
   "outputs": []
  },
  {
   "metadata": {},
   "cell_type": "code",
   "source": "bestParams",
   "execution_count": 47,
   "outputs": [
    {
     "output_type": "execute_result",
     "execution_count": 47,
     "data": {
      "text/plain": "{Param(parent='LogisticRegression_4b8ea29085c8e5132661', name='aggregationDepth', doc='suggested depth for treeAggregate (>= 2)'): 2,\n Param(parent='LogisticRegression_4b8ea29085c8e5132661', name='elasticNetParam', doc='the ElasticNet mixing parameter, in range [0, 1]. For alpha = 0, the penalty is an L2 penalty. For alpha = 1, it is an L1 penalty'): 0.0,\n Param(parent='LogisticRegression_4b8ea29085c8e5132661', name='family', doc='The name of family which is a description of the label distribution to be used in the model. Supported options: auto, binomial, multinomial.'): 'auto',\n Param(parent='LogisticRegression_4b8ea29085c8e5132661', name='featuresCol', doc='features column name'): 'SelectedFeatures_40',\n Param(parent='LogisticRegression_4b8ea29085c8e5132661', name='fitIntercept', doc='whether to fit an intercept term'): True,\n Param(parent='LogisticRegression_4b8ea29085c8e5132661', name='labelCol', doc='label column name'): 'label',\n Param(parent='LogisticRegression_4b8ea29085c8e5132661', name='maxIter', doc='maximum number of iterations (>= 0)'): 10,\n Param(parent='LogisticRegression_4b8ea29085c8e5132661', name='predictionCol', doc='prediction column name'): 'prediction',\n Param(parent='LogisticRegression_4b8ea29085c8e5132661', name='probabilityCol', doc='Column name for predicted class conditional probabilities. Note: Not all models output well-calibrated probability estimates! These probabilities should be treated as confidences, not precise probabilities'): 'probability',\n Param(parent='LogisticRegression_4b8ea29085c8e5132661', name='rawPredictionCol', doc='raw prediction (a.k.a. confidence) column name'): 'rawPrediction',\n Param(parent='LogisticRegression_4b8ea29085c8e5132661', name='regParam', doc='regularization parameter (>= 0)'): 0.0,\n Param(parent='LogisticRegression_4b8ea29085c8e5132661', name='standardization', doc='whether to standardize the training features before fitting the model'): True,\n Param(parent='LogisticRegression_4b8ea29085c8e5132661', name='threshold', doc='threshold in binary classification prediction, in range [0, 1]'): 0.5,\n Param(parent='LogisticRegression_4b8ea29085c8e5132661', name='tol', doc='the convergence tolerance for iterative algorithms (>= 0)'): 1e-06}"
     },
     "metadata": {}
    }
   ]
  },
  {
   "metadata": {},
   "cell_type": "markdown",
   "source": "## Iteration 3 - Feature Imputation"
  },
  {
   "metadata": {},
   "cell_type": "markdown",
   "source": "Feature Imputation with RF classifier was done in 4-week-2 and 4-week-2-2 notebooks to maintain the structure of notebooks.\n\nIn this notebook, we will take a look, how this data will affect the quality of our model in comparison to the one where we just dropped the columns."
  },
  {
   "metadata": {},
   "cell_type": "code",
   "source": "cos.download_file(Bucket=credentials['BUCKET'], Key='train_imputed', Filename='train_imputed.csv')\ncos.download_file(Bucket=credentials['BUCKET'], Key='test_imputed', Filename='test_imputed.csv')\ncos.download_file(Bucket=credentials['BUCKET'], Key='y_train_imputed', Filename='y_train_imputed.csv')\ncos.download_file(Bucket=credentials['BUCKET'], Key='y_test_imputed', Filename='y_test_imputed.csv')\n\ntrain_data = loadtxt('train_imputed.csv', delimiter=',')\ntest_data = loadtxt('test_imputed.csv', delimiter=',')\ny_train = loadtxt('y_train_imputed.csv', delimiter=',')\ny_test = loadtxt('y_test_imputed.csv', delimiter=',')",
   "execution_count": 26,
   "outputs": []
  },
  {
   "metadata": {},
   "cell_type": "code",
   "source": "rdd1 = sc.parallelize(train_data)\nrdd2 = rdd1.map(lambda x: [float(i) for i in x])\ntrain_df = rdd2.toDF()\n\nvectorAssembler = VectorAssembler(inputCols=[f'_{i}' for i in range(1, train_data.shape[1]+1)], outputCol=\"features\")\ntrain_df = vectorAssembler.transform(train_df)\n\ntrain_df = train_df.withColumn(\"id\", monotonically_increasing_id())\n\nb = [int(i) for i in list(y_train)]\n\ntrain_labels = spark.createDataFrame(b, IntegerType())\ntrain_labels = train_labels.withColumn(\"id\", monotonically_increasing_id())\ntrain_labels = train_labels.selectExpr(\"id as id\", \"value as label\")\n\ntrain = train_df.join(train_labels, \"id\")",
   "execution_count": 27,
   "outputs": []
  },
  {
   "metadata": {},
   "cell_type": "code",
   "source": "rdd1 = sc.parallelize(test_data)\nrdd2 = rdd1.map(lambda x: [float(i) for i in x])\ntest_df = rdd2.toDF()\n\nvectorAssembler = VectorAssembler(inputCols=[f'_{i}' for i in range(1, test_data.shape[1]+1)], outputCol=\"features\")\ntest_df = vectorAssembler.transform(test_df)\n\ntest_df = test_df.withColumn(\"id\", monotonically_increasing_id())\n\nb = [int(i) for i in list(y_test)]\n\ntest_labels = spark.createDataFrame(b, IntegerType())\ntest_labels = test_labels.withColumn(\"id\", monotonically_increasing_id())\ntest_labels = test_labels.selectExpr(\"id as id\", \"value as label\")\n\ntest = test_df.join(test_labels, \"id\")",
   "execution_count": 28,
   "outputs": []
  },
  {
   "metadata": {},
   "cell_type": "code",
   "source": "lr = LogisticRegression(featuresCol=f'features', labelCol='label', maxIter=10, regParam=0., elasticNetParam=0.)\nlrModel = lr.fit(train_selected)",
   "execution_count": 32,
   "outputs": []
  },
  {
   "metadata": {},
   "cell_type": "code",
   "source": "predict_train = lrModel.transform(train_selected)\npredict_test = lrModel.transform(test_selected)\n\nprint(\"The area under ROC for train set {}\".format(evaluator.evaluate(predict_train)))\nprint(\"The area under ROC for test set {}\".format(evaluator.evaluate(predict_test)))",
   "execution_count": 33,
   "outputs": [
    {
     "output_type": "stream",
     "text": "The area under ROC for train set 0.7544122518665749\nThe area under ROC for test set 0.7404901268905587\n",
     "name": "stdout"
    }
   ]
  },
  {
   "metadata": {},
   "cell_type": "markdown",
   "source": "# Result"
  },
  {
   "metadata": {},
   "cell_type": "markdown",
   "source": "We managed to imrove our performance indicator from 0.663 to 0.740"
  },
  {
   "metadata": {},
   "cell_type": "markdown",
   "source": "P.s. I runned out of month quota in the end, but i think i managed to do the MVP :)\n\nLink to the draft once again: https://github.com/OzmundSedler/IBM-advanced-DS-coursera/blob/master/4%20Capstone%20/ML-project-draft.ipynb"
  },
  {
   "metadata": {},
   "cell_type": "markdown",
   "source": "In the end, we proved that the patient's living status after five years could be predicted based on initial analysis and achieved reasonable recall even on such a small dataset."
  }
 ],
 "metadata": {
  "kernelspec": {
   "name": "python36",
   "display_name": "Python 3.6 with Spark",
   "language": "python3"
  },
  "language_info": {
   "mimetype": "text/x-python",
   "nbconvert_exporter": "python",
   "name": "python",
   "pygments_lexer": "ipython3",
   "version": "3.6.8",
   "file_extension": ".py",
   "codemirror_mode": {
    "version": 3,
    "name": "ipython"
   }
  },
  "pycharm": {
   "stem_cell": {
    "cell_type": "raw",
    "source": [],
    "metadata": {
     "collapsed": false
    }
   }
  }
 },
 "nbformat": 4,
 "nbformat_minor": 1
}