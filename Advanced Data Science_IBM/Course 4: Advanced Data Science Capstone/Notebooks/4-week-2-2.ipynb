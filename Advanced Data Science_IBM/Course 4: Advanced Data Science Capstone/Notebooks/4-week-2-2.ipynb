{
 "cells": [
  {
   "metadata": {},
   "cell_type": "markdown",
   "source": [
    "# Libs"
   ]
  },
  {
   "metadata": {},
   "cell_type": "code",
   "source": [
    "from ibm_botocore.client import Config\n",
    "import ibm_boto3"
   ],
   "execution_count": 1,
   "outputs": [
    {
     "output_type": "stream",
     "text": "Waiting for a Spark session to start...\nSpark Initialization Done! ApplicationId = app-20200209102530-0000\nKERNEL_ID = 9b1576ab-377e-48f7-a660-041274ac362b\n",
     "name": "stdout"
    }
   ]
  },
  {
   "metadata": {},
   "cell_type": "code",
   "source": [
    "SEED = 42\n",
    "\n",
    "# Numpy\n",
    "import numpy as np\n",
    "np.random.seed(SEED)\n",
    "\n",
    "# Pandas\n",
    "import pandas as pd\n",
    "\n",
    "# Sklearn\n",
    "\n",
    "# Preprocessing\n",
    "from sklearn.preprocessing import StandardScaler, LabelEncoder, OneHotEncoder\n",
    "from sklearn.feature_extraction import DictVectorizer as DV\n",
    "from sklearn.model_selection import cross_validate, learning_curve, train_test_split\n",
    "\n",
    "# Metrics and tuning\n",
    "from sklearn.metrics import roc_auc_score, accuracy_score, f1_score, confusion_matrix, classification_report\n",
    "from sklearn.feature_extraction import DictVectorizer as DV\n",
    "from sklearn.model_selection import GridSearchCV, RandomizedSearchCV, StratifiedKFold\n",
    "\n",
    "# Models\n",
    "from sklearn.ensemble import RandomForestClassifier\n",
    "from sklearn.neighbors import KNeighborsClassifier\n",
    "from sklearn.linear_model import LogisticRegression as LR\n",
    "from sklearn.naive_bayes import BernoulliNB, MultinomialNB, GaussianNB\n",
    "from sklearn.neural_network import MLPClassifier\n",
    "from sklearn import svm\n",
    "\n",
    "from keras.wrappers.scikit_learn import KerasClassifier\n",
    "from keras.models import Sequential\n",
    "from keras.layers import Dense\n",
    "\n",
    "# Stats\n",
    "from scipy import stats\n",
    "\n",
    "# Vizualization\n",
    "import seaborn as sns\n",
    "sns.set(style=\"whitegrid\")\n",
    "\n",
    "%matplotlib inline\n",
    "import matplotlib as mpl\n",
    "import matplotlib.pyplot as plt\n",
    "mpl.rc('axes', labelsize=14)\n",
    "mpl.rc('xtick', labelsize=12)\n",
    "mpl.rc('ytick', labelsize=12)"
   ],
   "execution_count": 2,
   "outputs": [
    {
     "output_type": "stream",
     "text": "Using TensorFlow backend.\n",
     "name": "stderr"
    }
   ]
  },
  {
   "metadata": {},
   "cell_type": "markdown",
   "source": [
    "# Data"
   ]
  },
  {
   "metadata": {},
   "cell_type": "code",
   "source": [
    "credentials = {\n",
    "    'IAM_SERVICE_ID': '',\n",
    "    'IBM_API_KEY_ID': '',\n",
    "    'ENDPOINT': '',\n",
    "    'IBM_AUTH_ENDPOINT': '',\n",
    "    'BUCKET': '',\n",
    "    'FILE': ''\n",
    "}\n",
    "\n",
    "cos = ibm_boto3.client(service_name='s3',\n",
    "    ibm_api_key_id=credentials['IBM_API_KEY_ID'],\n",
    "    ibm_service_instance_id=credentials['IAM_SERVICE_ID'],\n",
    "    ibm_auth_endpoint=credentials['IBM_AUTH_ENDPOINT'],\n",
    "    config=Config(signature_version='oauth'),\n",
    "    endpoint_url=credentials['ENDPOINT'])\n",
    "\n",
    "cos.download_file(Bucket=credentials['BUCKET'], Key='cleaned_data_2', Filename='cleaned_data_2.csv')\n",
    "\n",
    "df = pd.read_csv('cleaned_data_2.csv')"
   ],
   "execution_count": 3,
   "outputs": []
  },
  {
   "metadata": {},
   "cell_type": "code",
   "source": "df['Neoplasm Histologic Grade'] = df['Neoplasm Histologic Grade'].astype('category')",
   "execution_count": 4,
   "outputs": []
  },
  {
   "metadata": {},
   "cell_type": "code",
   "source": "df.info()",
   "execution_count": 5,
   "outputs": [
    {
     "output_type": "stream",
     "text": "<class 'pandas.core.frame.DataFrame'>\nRangeIndex: 1674 entries, 0 to 1673\nData columns (total 16 columns):\nAge at Diagnosis                  1674 non-null float64\nCellularity                       1674 non-null object\nPam50 + Claudin-low subtype       1674 non-null object\nER status measured by IHC         1674 non-null object\nER Status                         1674 non-null object\nNeoplasm Histologic Grade         1674 non-null category\nHER2 status measured by SNP6      1674 non-null object\nHER2 Status                       1674 non-null object\nTumor Other Histologic Subtype    1674 non-null object\nInferred Menopausal State         1674 non-null object\nIntegrative Cluster               1674 non-null object\nLymph nodes examined positive     1674 non-null float64\nMutation Count                    1674 non-null float64\nPR Status                         1674 non-null object\nTumor Size                        1674 non-null float64\nPatient's Vital Status            1674 non-null int64\ndtypes: category(1), float64(4), int64(1), object(10)\nmemory usage: 198.0+ KB\n",
     "name": "stdout"
    }
   ]
  },
  {
   "metadata": {},
   "cell_type": "markdown",
   "source": "# Separating target"
  },
  {
   "metadata": {},
   "cell_type": "code",
   "source": "y = df[\"Patient's Vital Status\"]",
   "execution_count": 6,
   "outputs": []
  },
  {
   "metadata": {},
   "cell_type": "code",
   "source": "df = df.drop(columns=[\"Patient's Vital Status\"])",
   "execution_count": 7,
   "outputs": []
  },
  {
   "metadata": {},
   "cell_type": "markdown",
   "source": "# Features transformation"
  },
  {
   "metadata": {},
   "cell_type": "code",
   "source": "df['Lymph nodes examined positive'].plot.hist()\nplt.xlabel('Lymph nodes examined positive', fontsize=14)",
   "execution_count": 8,
   "outputs": [
    {
     "output_type": "execute_result",
     "execution_count": 8,
     "data": {
      "text/plain": "Text(0.5, 0, 'Lymph nodes examined positive')"
     },
     "metadata": {}
    },
    {
     "output_type": "display_data",
     "data": {
      "image/png": "[encoded data removed]",
      "text/plain": "<Figure size 432x288 with 1 Axes>"
     },
     "metadata": {
      "needs_background": "light"
     }
    }
   ]
  },
  {
   "metadata": {},
   "cell_type": "markdown",
   "source": "The data is skewed, had a lot of zero values. We need to decide what to do with it. One of the typical transformation strategies, in this case, is \"log(x+1)\" transformation.\n\nMore info: http://onbiostatistics.blogspot.com/2012/05/logx1-data-transformation.html"
  },
  {
   "metadata": {},
   "cell_type": "code",
   "source": "f = df['Lymph nodes examined positive']\nf_log = f.map(lambda x: np.log(x+1))\n\nf_log.plot.hist()\nplt.xlabel('Log Lymph nodes examined positive', fontsize=14)",
   "execution_count": 9,
   "outputs": [
    {
     "output_type": "execute_result",
     "execution_count": 9,
     "data": {
      "text/plain": "Text(0.5, 0, 'Log Lymph nodes examined positive')"
     },
     "metadata": {}
    },
    {
     "output_type": "display_data",
     "data": {
      "image/png": "[encoded data removed]",
      "text/plain": "<Figure size 432x288 with 1 Axes>"
     },
     "metadata": {
      "needs_background": "light"
     }
    }
   ]
  },
  {
   "metadata": {},
   "cell_type": "code",
   "source": "df['Lymph nodes examined positive'] = df['Lymph nodes examined positive'].apply(lambda x: np.log(x+1))",
   "execution_count": 10,
   "outputs": []
  },
  {
   "metadata": {},
   "cell_type": "markdown",
   "source": "Now, the feature looks much better. Let's take a look at other features with skewed distribution:"
  },
  {
   "metadata": {},
   "cell_type": "code",
   "source": "df['Mutation Count'].plot.hist()\nplt.xlabel('Mutation Count', fontsize=14)",
   "execution_count": 11,
   "outputs": [
    {
     "output_type": "execute_result",
     "execution_count": 11,
     "data": {
      "text/plain": "Text(0.5, 0, 'Mutation Count')"
     },
     "metadata": {}
    },
    {
     "output_type": "display_data",
     "data": {
      "image/png": "[encoded data removed]",
      "text/plain": "<Figure size 432x288 with 1 Axes>"
     },
     "metadata": {
      "needs_background": "light"
     }
    }
   ]
  },
  {
   "metadata": {},
   "cell_type": "code",
   "source": "f = df['Mutation Count']\nf_log = f.map(lambda x: np.log(x+1))\n\nf_log.plot.hist()\nplt.xlabel('Log Lymph nodes examined positive', fontsize=14)",
   "execution_count": 12,
   "outputs": [
    {
     "output_type": "execute_result",
     "execution_count": 12,
     "data": {
      "text/plain": "Text(0.5, 0, 'Log Lymph nodes examined positive')"
     },
     "metadata": {}
    },
    {
     "output_type": "display_data",
     "data": {
      "image/png": "[encoded data removed]",
      "text/plain": "<Figure size 432x288 with 1 Axes>"
     },
     "metadata": {
      "needs_background": "light"
     }
    }
   ]
  },
  {
   "metadata": {},
   "cell_type": "code",
   "source": "df['Mutation Count'] = df['Mutation Count'].apply(lambda x: np.log(x+1))",
   "execution_count": 13,
   "outputs": []
  },
  {
   "metadata": {},
   "cell_type": "code",
   "source": "df['Tumor Size'].plot.hist()\nplt.xlabel('Tumor Size', fontsize=14)",
   "execution_count": 14,
   "outputs": [
    {
     "output_type": "execute_result",
     "execution_count": 14,
     "data": {
      "text/plain": "Text(0.5, 0, 'Tumor Size')"
     },
     "metadata": {}
    },
    {
     "output_type": "display_data",
     "data": {
      "image/png": "[encoded data removed]",
      "text/plain": "<Figure size 432x288 with 1 Axes>"
     },
     "metadata": {
      "needs_background": "light"
     }
    }
   ]
  },
  {
   "metadata": {},
   "cell_type": "code",
   "source": "f = df['Tumor Size']\nf_log = f.map(lambda x: np.log(x+1))\n\nf_log.plot.hist()\nplt.xlabel('Tumor Size', fontsize=14)",
   "execution_count": 15,
   "outputs": [
    {
     "output_type": "execute_result",
     "execution_count": 15,
     "data": {
      "text/plain": "Text(0.5, 0, 'Tumor Size')"
     },
     "metadata": {}
    },
    {
     "output_type": "display_data",
     "data": {
      "image/png": "[encoded data removed]",
      "text/plain": "<Figure size 432x288 with 1 Axes>"
     },
     "metadata": {
      "needs_background": "light"
     }
    }
   ]
  },
  {
   "metadata": {},
   "cell_type": "code",
   "source": "df['Tumor Size'] = df['Tumor Size'].apply(lambda x: np.log(x+1))",
   "execution_count": 16,
   "outputs": []
  },
  {
   "metadata": {},
   "cell_type": "markdown",
   "source": "# One-Hot encoding"
  },
  {
   "metadata": {},
   "cell_type": "code",
   "source": "df.info()",
   "execution_count": 17,
   "outputs": [
    {
     "output_type": "stream",
     "text": "<class 'pandas.core.frame.DataFrame'>\nRangeIndex: 1674 entries, 0 to 1673\nData columns (total 15 columns):\nAge at Diagnosis                  1674 non-null float64\nCellularity                       1674 non-null object\nPam50 + Claudin-low subtype       1674 non-null object\nER status measured by IHC         1674 non-null object\nER Status                         1674 non-null object\nNeoplasm Histologic Grade         1674 non-null category\nHER2 status measured by SNP6      1674 non-null object\nHER2 Status                       1674 non-null object\nTumor Other Histologic Subtype    1674 non-null object\nInferred Menopausal State         1674 non-null object\nIntegrative Cluster               1674 non-null object\nLymph nodes examined positive     1674 non-null float64\nMutation Count                    1674 non-null float64\nPR Status                         1674 non-null object\nTumor Size                        1674 non-null float64\ndtypes: category(1), float64(4), object(10)\nmemory usage: 184.9+ KB\n",
     "name": "stdout"
    }
   ]
  },
  {
   "metadata": {},
   "cell_type": "code",
   "source": "numeric_cols = ['Age at Diagnosis', 'Lymph nodes examined positive', 'Tumor Size', 'Mutation Count']\ncategorical_cols = list(set(df.columns.values.tolist()) - set(numeric_cols))",
   "execution_count": 18,
   "outputs": []
  },
  {
   "metadata": {},
   "cell_type": "code",
   "source": "data_cat = df[categorical_cols]\ndata_num = df[numeric_cols]",
   "execution_count": 19,
   "outputs": []
  },
  {
   "metadata": {},
   "cell_type": "code",
   "source": "enc = OneHotEncoder(sparse=False)\ndata_cat_oh = enc.fit_transform(data_cat)",
   "execution_count": 20,
   "outputs": []
  },
  {
   "metadata": {},
   "cell_type": "code",
   "source": "data_cat_oh.shape",
   "execution_count": 21,
   "outputs": [
    {
     "output_type": "execute_result",
     "execution_count": 21,
     "data": {
      "text/plain": "(1674, 45)"
     },
     "metadata": {}
    }
   ]
  },
  {
   "metadata": {},
   "cell_type": "markdown",
   "source": "# Splitting dataset"
  },
  {
   "metadata": {},
   "cell_type": "markdown",
   "source": "Now we need to split our dataset into the train and test sets. "
  },
  {
   "metadata": {},
   "cell_type": "markdown",
   "source": "Let's ensure that our classes are balanced:"
  },
  {
   "metadata": {},
   "cell_type": "code",
   "source": "sns.countplot(y.values)",
   "execution_count": 22,
   "outputs": [
    {
     "output_type": "execute_result",
     "execution_count": 22,
     "data": {
      "text/plain": "<matplotlib.axes._subplots.AxesSubplot at 0x7f8a7bbba748>"
     },
     "metadata": {}
    },
    {
     "output_type": "display_data",
     "data": {
      "image/png": "[encoded data removed]",
      "text/plain": "<Figure size 432x288 with 1 Axes>"
     },
     "metadata": {
      "needs_background": "light"
     }
    }
   ]
  },
  {
   "metadata": {},
   "cell_type": "markdown",
   "source": "Ok, so they are not. We can either balance the manually - with over/under sampling. We can also use stratification to be sure that number of class examples are equal in our train and test sets."
  },
  {
   "metadata": {},
   "cell_type": "code",
   "source": "(X_train_num, X_test_num, y_train, y_test) = train_test_split(data_num, y, \n                                                              test_size=0.3, \n                                                              random_state=42,\n                                                              stratify=y)\n\n(X_train_cat_oh, X_test_cat_oh) = train_test_split(data_cat_oh, \n                                                   test_size=0.3, \n                                                   random_state=42,\n                                                   stratify=y)",
   "execution_count": 23,
   "outputs": []
  },
  {
   "metadata": {},
   "cell_type": "markdown",
   "source": "# Numerical features scaling"
  },
  {
   "metadata": {},
   "cell_type": "code",
   "source": "scaler = StandardScaler()\n\nX_train_num_scaled = scaler.fit_transform(X_train_num, y_train)\nX_test_num_scaled = scaler.transform(X_test_num)",
   "execution_count": 24,
   "outputs": []
  },
  {
   "metadata": {},
   "cell_type": "markdown",
   "source": " # Creating final train and test datasets"
  },
  {
   "metadata": {},
   "cell_type": "code",
   "source": "train_data = np.hstack((X_train_num_scaled, X_train_cat_oh))\ntest_data = np.hstack((X_test_num_scaled, X_test_cat_oh))",
   "execution_count": 25,
   "outputs": []
  },
  {
   "metadata": {},
   "cell_type": "code",
   "source": "from numpy import savetxt",
   "execution_count": 26,
   "outputs": []
  },
  {
   "metadata": {},
   "cell_type": "code",
   "source": "savetxt('train.csv', train_data, delimiter=',')\nsavetxt('test.csv', test_data, delimiter=',')\nsavetxt('y_train.csv', y_train, delimiter=',')\nsavetxt('y_test.csv', y_test, delimiter=',')",
   "execution_count": 27,
   "outputs": []
  },
  {
   "metadata": {},
   "cell_type": "code",
   "source": "cos.upload_file(Filename='train.csv',Bucket=credentials['BUCKET'], Key='train')\ncos.upload_file(Filename='test.csv',Bucket=credentials['BUCKET'], Key='test')\ncos.upload_file(Filename='y_train.csv',Bucket=credentials['BUCKET'], Key='y_train')\ncos.upload_file(Filename='y_test.csv',Bucket=credentials['BUCKET'], Key='y_test')",
   "execution_count": 28,
   "outputs": []
  },
  {
   "metadata": {},
   "cell_type": "code",
   "source": "",
   "execution_count": null,
   "outputs": []
  },
  {
   "metadata": {},
   "cell_type": "code",
   "source": "",
   "execution_count": null,
   "outputs": []
  },
  {
   "metadata": {},
   "cell_type": "markdown",
   "source": "# Feature Imputation"
  },
  {
   "metadata": {},
   "cell_type": "markdown",
   "source": "We need to do all the steps above for a new dataset with imputed features"
  },
  {
   "metadata": {},
   "cell_type": "code",
   "source": "cos.download_file(Bucket=credentials['BUCKET'], Key='imputed_data', Filename='imputed_data.csv')\n\ndf_imputed = pd.read_csv('imputed_data.csv')",
   "execution_count": 29,
   "outputs": []
  },
  {
   "metadata": {},
   "cell_type": "code",
   "source": "df_imputed['Neoplasm Histologic Grade'] = df_imputed['Neoplasm Histologic Grade'].astype('category')",
   "execution_count": 30,
   "outputs": []
  },
  {
   "metadata": {},
   "cell_type": "code",
   "source": "y_imputed = df_imputed[\"Patient's Vital Status\"]\ndf_imputed = df_imputed.drop(columns=[\"Patient's Vital Status\"])",
   "execution_count": 31,
   "outputs": []
  },
  {
   "metadata": {},
   "cell_type": "code",
   "source": "df_imputed['Tumor Size'] = df_imputed['Tumor Size'].apply(lambda x: np.log(x+1))\ndf_imputed['Lymph nodes examined positive'] = df_imputed['Lymph nodes examined positive'].apply(lambda x: np.log(x+1))",
   "execution_count": 32,
   "outputs": []
  },
  {
   "metadata": {},
   "cell_type": "code",
   "source": "numeric_cols = ['Age at Diagnosis', 'Lymph nodes examined positive', 'Tumor Size']\ncategorical_cols = list(set(df_imputed.columns.values.tolist()) - set(numeric_cols))",
   "execution_count": 33,
   "outputs": []
  },
  {
   "metadata": {},
   "cell_type": "code",
   "source": "data_cat = df_imputed[categorical_cols]\ndata_num = df_imputed[numeric_cols]",
   "execution_count": 34,
   "outputs": []
  },
  {
   "metadata": {},
   "cell_type": "code",
   "source": "enc = OneHotEncoder(sparse=False)\ndata_cat_oh = enc.fit_transform(data_cat)",
   "execution_count": 35,
   "outputs": []
  },
  {
   "metadata": {},
   "cell_type": "code",
   "source": "(X_train_num, X_test_num, y_train, y_test) = train_test_split(data_num, y_imputed, \n                                                              test_size=0.3, \n                                                              random_state=42,\n                                                              stratify=y_imputed)\n\n(X_train_cat_oh, X_test_cat_oh) = train_test_split(data_cat_oh, \n                                                   test_size=0.3, \n                                                   random_state=42,\n                                                   stratify=y_imputed)",
   "execution_count": 37,
   "outputs": []
  },
  {
   "metadata": {},
   "cell_type": "code",
   "source": "scaler = StandardScaler()\n\nX_train_num_scaled = scaler.fit_transform(X_train_num, y_train)\nX_test_num_scaled = scaler.transform(X_test_num)",
   "execution_count": 38,
   "outputs": []
  },
  {
   "metadata": {},
   "cell_type": "code",
   "source": "train_data = np.hstack((X_train_num_scaled, X_train_cat_oh))\ntest_data = np.hstack((X_test_num_scaled, X_test_cat_oh))",
   "execution_count": 39,
   "outputs": []
  },
  {
   "metadata": {},
   "cell_type": "code",
   "source": "train_data[:1]",
   "execution_count": 42,
   "outputs": [
    {
     "output_type": "execute_result",
     "execution_count": 42,
     "data": {
      "text/plain": "array([[1.74460015, 2.47295118, 3.81002246, 0.        , 0.        ,\n        1.        , 0.        , 1.        , 0.        , 0.        ,\n        0.        , 1.        , 0.        , 0.        , 0.        ,\n        1.        , 1.        , 0.        , 0.        , 1.        ,\n        0.        , 1.        , 0.        , 1.        , 0.        ,\n        0.        , 0.        , 0.        , 1.        , 0.        ,\n        0.        , 0.        , 0.        , 0.        , 0.        ,\n        0.        , 1.        , 0.        , 0.        , 0.        ,\n        0.        , 0.        , 0.        , 0.        , 0.        ,\n        1.        , 0.        , 0.        , 0.        , 0.        ,\n        0.        , 0.        , 0.        , 0.        , 0.        ,\n        1.        , 0.        , 1.        , 0.        ]])"
     },
     "metadata": {}
    }
   ]
  },
  {
   "metadata": {},
   "cell_type": "code",
   "source": "savetxt('train_imputed.csv', train_data, delimiter=',')\nsavetxt('test_imputed.csv', test_data, delimiter=',')\nsavetxt('y_train_imputed.csv', y_train, delimiter=',')\nsavetxt('y_test_imputed.csv', y_test, delimiter=',')",
   "execution_count": null,
   "outputs": []
  },
  {
   "metadata": {},
   "cell_type": "code",
   "source": "cos.upload_file(Filename='train_imputed.csv',Bucket=credentials['BUCKET'], Key='train_imputed')\ncos.upload_file(Filename='test_imputed.csv',Bucket=credentials['BUCKET'], Key='test_imputed')\ncos.upload_file(Filename='y_train_imputed.csv',Bucket=credentials['BUCKET'], Key='y_train_imputed')\ncos.upload_file(Filename='y_test_imputed.csv',Bucket=credentials['BUCKET'], Key='y_test_imputed')",
   "execution_count": null,
   "outputs": []
  }
 ],
 "metadata": {
  "kernelspec": {
   "name": "python36",
   "display_name": "Python 3.6 with Spark",
   "language": "python3"
  },
  "language_info": {
   "mimetype": "text/x-python",
   "nbconvert_exporter": "python",
   "name": "python",
   "pygments_lexer": "ipython3",
   "version": "3.6.8",
   "file_extension": ".py",
   "codemirror_mode": {
    "version": 3,
    "name": "ipython"
   }
  },
  "pycharm": {
   "stem_cell": {
    "cell_type": "raw",
    "source": [],
    "metadata": {
     "collapsed": false
    }
   }
  }
 },
 "nbformat": 4,
 "nbformat_minor": 1
}